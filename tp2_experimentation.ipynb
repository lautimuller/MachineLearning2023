{
 "cells": [
  {
   "cell_type": "code",
   "execution_count": 1,
   "id": "183b36e6",
   "metadata": {},
   "outputs": [],
   "source": [
    "import pandas as pd\n",
    "import matplotlib.pyplot as plt\n",
    "import numpy as np\n",
    "import seaborn as sb\n",
    "import itertools\n",
    "import warnings\n",
    "import plotly.express as px\n",
    "import seaborn as sns\n",
    "from sklearn.decomposition import PCA\n",
    "from sklearn_pandas import DataFrameMapper\n",
    "from sklearn.preprocessing import StandardScaler, OneHotEncoder\n",
    "from sklearn.pipeline import Pipeline\n",
    "from sklearn.model_selection import train_test_split\n",
    "from sklearn.linear_model import LogisticRegression\n",
    "from sklearn.model_selection import GridSearchCV\n",
    "from sklearn import metrics\n",
    "warnings.filterwarnings(\"ignore\")"
   ]
  },
  {
   "cell_type": "markdown",
   "id": "88a19fc6",
   "metadata": {},
   "source": [
    "## Diccionario de datos\n",
    " \n",
    "| Variable      |Definición                                                                | ¿Es utilizada? | Entrada/Salida |\n",
    "|:--------------|:-------------------------------------------------------------------------|:--------------|:----------------|\n",
    "|  id  |   Número correlativo de vuelos.                   | NO                              | -                             |\n",
    "|  Airlines  | Nombre abreviado de la aerolinea.                | SI              | ENTRADA                                  |\n",
    "|   Flight   | Número del vuelo.                            | NO              | -                                   |\n",
    "|   AirportFrom   | De qué aeropuerto salió el vuelo.                         | Si                 | ENTRADA                         |\n",
    "|    AirportTo  | A qué aeropuerto llegó el vuelo                 | SI           | ENTRADA                                        |\n",
    "| DayOfWeek  | Día de la semana del vuelo.                 | SI           | ENTRADA                                                |         \n",
    "| Time  | Hora de salida expresada en minutos.                  | SI           | ENTRADA                              |\n",
    "| Length  | Duración del vuelo en minutos.                 | SI           | ENTRADA                              |\n",
    "| Delay  | Si el vuelo esta demorado.                 | SI           | SALIDA                                      |"
   ]
  },
  {
   "cell_type": "markdown",
   "id": "0a775aaa",
   "metadata": {},
   "source": [
    "## Métricas"
   ]
  },
  {
   "cell_type": "markdown",
   "id": "f7889255",
   "metadata": {},
   "source": [
    "En nuestro caso contamos con el set de datos balanceado, por lo que vamos a utilizar como métrica Accuracy. Esta métrica es muy buena para la clacificación cuando el dataset está bien balanceado, evitando problemas como por ejemplo que prediga siempre la misma clase.\n",
    "\n",
    "Esta métrica nos va a indicar el porcentaje de aciertos que tuvimos."
   ]
  },
  {
   "cell_type": "code",
   "execution_count": 2,
   "id": "03393b15",
   "metadata": {},
   "outputs": [
    {
     "data": {
      "text/html": [
       "<div>\n",
       "<style scoped>\n",
       "    .dataframe tbody tr th:only-of-type {\n",
       "        vertical-align: middle;\n",
       "    }\n",
       "\n",
       "    .dataframe tbody tr th {\n",
       "        vertical-align: top;\n",
       "    }\n",
       "\n",
       "    .dataframe thead th {\n",
       "        text-align: right;\n",
       "    }\n",
       "</style>\n",
       "<table border=\"1\" class=\"dataframe\">\n",
       "  <thead>\n",
       "    <tr style=\"text-align: right;\">\n",
       "      <th></th>\n",
       "      <th>id</th>\n",
       "      <th>Airline</th>\n",
       "      <th>Flight</th>\n",
       "      <th>AirportFrom</th>\n",
       "      <th>AirportTo</th>\n",
       "      <th>DayOfWeek</th>\n",
       "      <th>Time</th>\n",
       "      <th>Length</th>\n",
       "      <th>Delay</th>\n",
       "    </tr>\n",
       "  </thead>\n",
       "  <tbody>\n",
       "    <tr>\n",
       "      <th>0</th>\n",
       "      <td>1</td>\n",
       "      <td>CO</td>\n",
       "      <td>269</td>\n",
       "      <td>SFO</td>\n",
       "      <td>IAH</td>\n",
       "      <td>3</td>\n",
       "      <td>15</td>\n",
       "      <td>205</td>\n",
       "      <td>1</td>\n",
       "    </tr>\n",
       "    <tr>\n",
       "      <th>1</th>\n",
       "      <td>2</td>\n",
       "      <td>US</td>\n",
       "      <td>1558</td>\n",
       "      <td>PHX</td>\n",
       "      <td>CLT</td>\n",
       "      <td>3</td>\n",
       "      <td>15</td>\n",
       "      <td>222</td>\n",
       "      <td>1</td>\n",
       "    </tr>\n",
       "    <tr>\n",
       "      <th>2</th>\n",
       "      <td>3</td>\n",
       "      <td>AA</td>\n",
       "      <td>2400</td>\n",
       "      <td>LAX</td>\n",
       "      <td>DFW</td>\n",
       "      <td>3</td>\n",
       "      <td>20</td>\n",
       "      <td>165</td>\n",
       "      <td>1</td>\n",
       "    </tr>\n",
       "    <tr>\n",
       "      <th>3</th>\n",
       "      <td>4</td>\n",
       "      <td>AA</td>\n",
       "      <td>2466</td>\n",
       "      <td>SFO</td>\n",
       "      <td>DFW</td>\n",
       "      <td>3</td>\n",
       "      <td>20</td>\n",
       "      <td>195</td>\n",
       "      <td>1</td>\n",
       "    </tr>\n",
       "    <tr>\n",
       "      <th>4</th>\n",
       "      <td>5</td>\n",
       "      <td>AS</td>\n",
       "      <td>108</td>\n",
       "      <td>ANC</td>\n",
       "      <td>SEA</td>\n",
       "      <td>3</td>\n",
       "      <td>30</td>\n",
       "      <td>202</td>\n",
       "      <td>0</td>\n",
       "    </tr>\n",
       "  </tbody>\n",
       "</table>\n",
       "</div>"
      ],
      "text/plain": [
       "   id Airline  Flight AirportFrom AirportTo  DayOfWeek  Time  Length  Delay\n",
       "0   1      CO     269         SFO       IAH          3    15     205      1\n",
       "1   2      US    1558         PHX       CLT          3    15     222      1\n",
       "2   3      AA    2400         LAX       DFW          3    20     165      1\n",
       "3   4      AA    2466         SFO       DFW          3    20     195      1\n",
       "4   5      AS     108         ANC       SEA          3    30     202      0"
      ]
     },
     "execution_count": 2,
     "metadata": {},
     "output_type": "execute_result"
    }
   ],
   "source": [
    "data=pd.read_csv('Airlines.csv')\n",
    "data.head()"
   ]
  },
  {
   "cell_type": "code",
   "execution_count": 3,
   "id": "b0a48d69",
   "metadata": {},
   "outputs": [
    {
     "data": {
      "text/html": [
       "<div>\n",
       "<style scoped>\n",
       "    .dataframe tbody tr th:only-of-type {\n",
       "        vertical-align: middle;\n",
       "    }\n",
       "\n",
       "    .dataframe tbody tr th {\n",
       "        vertical-align: top;\n",
       "    }\n",
       "\n",
       "    .dataframe thead th {\n",
       "        text-align: right;\n",
       "    }\n",
       "</style>\n",
       "<table border=\"1\" class=\"dataframe\">\n",
       "  <thead>\n",
       "    <tr style=\"text-align: right;\">\n",
       "      <th></th>\n",
       "      <th>id</th>\n",
       "      <th>Flight</th>\n",
       "      <th>DayOfWeek</th>\n",
       "      <th>Time</th>\n",
       "      <th>Length</th>\n",
       "      <th>Delay</th>\n",
       "    </tr>\n",
       "  </thead>\n",
       "  <tbody>\n",
       "    <tr>\n",
       "      <th>count</th>\n",
       "      <td>539383.000000</td>\n",
       "      <td>539383.000000</td>\n",
       "      <td>539383.000000</td>\n",
       "      <td>539383.000000</td>\n",
       "      <td>539383.000000</td>\n",
       "      <td>539383.000000</td>\n",
       "    </tr>\n",
       "    <tr>\n",
       "      <th>mean</th>\n",
       "      <td>269692.000000</td>\n",
       "      <td>2427.928630</td>\n",
       "      <td>3.929668</td>\n",
       "      <td>802.728963</td>\n",
       "      <td>132.202007</td>\n",
       "      <td>0.445442</td>\n",
       "    </tr>\n",
       "    <tr>\n",
       "      <th>std</th>\n",
       "      <td>155706.604461</td>\n",
       "      <td>2067.429837</td>\n",
       "      <td>1.914664</td>\n",
       "      <td>278.045911</td>\n",
       "      <td>70.117016</td>\n",
       "      <td>0.497015</td>\n",
       "    </tr>\n",
       "    <tr>\n",
       "      <th>min</th>\n",
       "      <td>1.000000</td>\n",
       "      <td>1.000000</td>\n",
       "      <td>1.000000</td>\n",
       "      <td>10.000000</td>\n",
       "      <td>0.000000</td>\n",
       "      <td>0.000000</td>\n",
       "    </tr>\n",
       "    <tr>\n",
       "      <th>25%</th>\n",
       "      <td>134846.500000</td>\n",
       "      <td>712.000000</td>\n",
       "      <td>2.000000</td>\n",
       "      <td>565.000000</td>\n",
       "      <td>81.000000</td>\n",
       "      <td>0.000000</td>\n",
       "    </tr>\n",
       "    <tr>\n",
       "      <th>50%</th>\n",
       "      <td>269692.000000</td>\n",
       "      <td>1809.000000</td>\n",
       "      <td>4.000000</td>\n",
       "      <td>795.000000</td>\n",
       "      <td>115.000000</td>\n",
       "      <td>0.000000</td>\n",
       "    </tr>\n",
       "    <tr>\n",
       "      <th>75%</th>\n",
       "      <td>404537.500000</td>\n",
       "      <td>3745.000000</td>\n",
       "      <td>5.000000</td>\n",
       "      <td>1035.000000</td>\n",
       "      <td>162.000000</td>\n",
       "      <td>1.000000</td>\n",
       "    </tr>\n",
       "    <tr>\n",
       "      <th>max</th>\n",
       "      <td>539383.000000</td>\n",
       "      <td>7814.000000</td>\n",
       "      <td>7.000000</td>\n",
       "      <td>1439.000000</td>\n",
       "      <td>655.000000</td>\n",
       "      <td>1.000000</td>\n",
       "    </tr>\n",
       "  </tbody>\n",
       "</table>\n",
       "</div>"
      ],
      "text/plain": [
       "                  id         Flight      DayOfWeek           Time  \\\n",
       "count  539383.000000  539383.000000  539383.000000  539383.000000   \n",
       "mean   269692.000000    2427.928630       3.929668     802.728963   \n",
       "std    155706.604461    2067.429837       1.914664     278.045911   \n",
       "min         1.000000       1.000000       1.000000      10.000000   \n",
       "25%    134846.500000     712.000000       2.000000     565.000000   \n",
       "50%    269692.000000    1809.000000       4.000000     795.000000   \n",
       "75%    404537.500000    3745.000000       5.000000    1035.000000   \n",
       "max    539383.000000    7814.000000       7.000000    1439.000000   \n",
       "\n",
       "              Length          Delay  \n",
       "count  539383.000000  539383.000000  \n",
       "mean      132.202007       0.445442  \n",
       "std        70.117016       0.497015  \n",
       "min         0.000000       0.000000  \n",
       "25%        81.000000       0.000000  \n",
       "50%       115.000000       0.000000  \n",
       "75%       162.000000       1.000000  \n",
       "max       655.000000       1.000000  "
      ]
     },
     "execution_count": 3,
     "metadata": {},
     "output_type": "execute_result"
    }
   ],
   "source": [
    "data.describe()"
   ]
  },
  {
   "cell_type": "markdown",
   "id": "e0cce8aa",
   "metadata": {},
   "source": [
    "## Limpieza y Pre Procesado:"
   ]
  },
  {
   "cell_type": "markdown",
   "id": "93cdbce3",
   "metadata": {},
   "source": [
    "Se eliminan las variables no utilizadas"
   ]
  },
  {
   "cell_type": "code",
   "execution_count": 4,
   "id": "8c669d83",
   "metadata": {},
   "outputs": [
    {
     "data": {
      "text/html": [
       "<div>\n",
       "<style scoped>\n",
       "    .dataframe tbody tr th:only-of-type {\n",
       "        vertical-align: middle;\n",
       "    }\n",
       "\n",
       "    .dataframe tbody tr th {\n",
       "        vertical-align: top;\n",
       "    }\n",
       "\n",
       "    .dataframe thead th {\n",
       "        text-align: right;\n",
       "    }\n",
       "</style>\n",
       "<table border=\"1\" class=\"dataframe\">\n",
       "  <thead>\n",
       "    <tr style=\"text-align: right;\">\n",
       "      <th></th>\n",
       "      <th>Airline</th>\n",
       "      <th>AirportFrom</th>\n",
       "      <th>AirportTo</th>\n",
       "      <th>DayOfWeek</th>\n",
       "      <th>Time</th>\n",
       "      <th>Length</th>\n",
       "      <th>Delay</th>\n",
       "    </tr>\n",
       "  </thead>\n",
       "  <tbody>\n",
       "    <tr>\n",
       "      <th>0</th>\n",
       "      <td>CO</td>\n",
       "      <td>SFO</td>\n",
       "      <td>IAH</td>\n",
       "      <td>3</td>\n",
       "      <td>15</td>\n",
       "      <td>205</td>\n",
       "      <td>1</td>\n",
       "    </tr>\n",
       "    <tr>\n",
       "      <th>1</th>\n",
       "      <td>US</td>\n",
       "      <td>PHX</td>\n",
       "      <td>CLT</td>\n",
       "      <td>3</td>\n",
       "      <td>15</td>\n",
       "      <td>222</td>\n",
       "      <td>1</td>\n",
       "    </tr>\n",
       "    <tr>\n",
       "      <th>2</th>\n",
       "      <td>AA</td>\n",
       "      <td>LAX</td>\n",
       "      <td>DFW</td>\n",
       "      <td>3</td>\n",
       "      <td>20</td>\n",
       "      <td>165</td>\n",
       "      <td>1</td>\n",
       "    </tr>\n",
       "    <tr>\n",
       "      <th>3</th>\n",
       "      <td>AA</td>\n",
       "      <td>SFO</td>\n",
       "      <td>DFW</td>\n",
       "      <td>3</td>\n",
       "      <td>20</td>\n",
       "      <td>195</td>\n",
       "      <td>1</td>\n",
       "    </tr>\n",
       "    <tr>\n",
       "      <th>4</th>\n",
       "      <td>AS</td>\n",
       "      <td>ANC</td>\n",
       "      <td>SEA</td>\n",
       "      <td>3</td>\n",
       "      <td>30</td>\n",
       "      <td>202</td>\n",
       "      <td>0</td>\n",
       "    </tr>\n",
       "  </tbody>\n",
       "</table>\n",
       "</div>"
      ],
      "text/plain": [
       "  Airline AirportFrom AirportTo  DayOfWeek  Time  Length  Delay\n",
       "0      CO         SFO       IAH          3    15     205      1\n",
       "1      US         PHX       CLT          3    15     222      1\n",
       "2      AA         LAX       DFW          3    20     165      1\n",
       "3      AA         SFO       DFW          3    20     195      1\n",
       "4      AS         ANC       SEA          3    30     202      0"
      ]
     },
     "execution_count": 4,
     "metadata": {},
     "output_type": "execute_result"
    }
   ],
   "source": [
    "df = data.drop(['id', 'Flight'],axis=1)\n",
    "df.head()"
   ]
  },
  {
   "cell_type": "markdown",
   "id": "f04bbcb8",
   "metadata": {},
   "source": [
    "Se eliminan datos atipicos"
   ]
  },
  {
   "cell_type": "code",
   "execution_count": 5,
   "id": "de349ee4",
   "metadata": {},
   "outputs": [],
   "source": [
    "df= df.drop(df[(df['Length'] == 0)].index)"
   ]
  },
  {
   "cell_type": "code",
   "execution_count": 6,
   "id": "ff9d7875",
   "metadata": {},
   "outputs": [
    {
     "data": {
      "text/plain": [
       "Airline        539379\n",
       "AirportFrom    539379\n",
       "AirportTo      539379\n",
       "DayOfWeek      539379\n",
       "Time           539379\n",
       "Length         539379\n",
       "Delay          539379\n",
       "dtype: int64"
      ]
     },
     "execution_count": 6,
     "metadata": {},
     "output_type": "execute_result"
    }
   ],
   "source": [
    "df.count()"
   ]
  },
  {
   "cell_type": "markdown",
   "id": "8f778829",
   "metadata": {},
   "source": [
    " ## Feature Engineering"
   ]
  },
  {
   "cell_type": "code",
   "execution_count": 7,
   "id": "11789522",
   "metadata": {},
   "outputs": [],
   "source": [
    "## Funcion que calcula el momento del día\n",
    "def momento_del_dia(hora):\n",
    "    if hora >= 360 and hora < 720:\n",
    "        return 'Mañana' ## MAÑANA\n",
    "    elif hora >= 720 and hora < 1080:\n",
    "        return 'Tarde' ## TARDE\n",
    "    else:\n",
    "        return 'Noche' ## NOCHE"
   ]
  },
  {
   "cell_type": "code",
   "execution_count": 8,
   "id": "e3d8699a",
   "metadata": {},
   "outputs": [],
   "source": [
    "df['MomentoDelDia'] = df['Time'].apply(momento_del_dia)"
   ]
  },
  {
   "cell_type": "code",
   "execution_count": 9,
   "id": "e2655d27",
   "metadata": {},
   "outputs": [],
   "source": [
    "mapper = DataFrameMapper([\n",
    "    (['Airline'], [OneHotEncoder()]),\n",
    "    (['AirportFrom'], [OneHotEncoder()]),\n",
    "    (['AirportTo'], [OneHotEncoder()]),\n",
    "    (['DayOfWeek'], [StandardScaler()]),\n",
    "    (['Time'], [StandardScaler()]),\n",
    "    (['Length'], [StandardScaler()]),\n",
    "    (['MomentoDelDia'], [OneHotEncoder()])\n",
    "])"
   ]
  },
  {
   "cell_type": "markdown",
   "id": "2df41122",
   "metadata": {},
   "source": [
    "## Conjuntos de datos"
   ]
  },
  {
   "cell_type": "code",
   "execution_count": 10,
   "id": "ef5054a3",
   "metadata": {},
   "outputs": [
    {
     "data": {
      "text/plain": [
       "((323627, 8), (107876, 8), (107876, 8))"
      ]
     },
     "execution_count": 10,
     "metadata": {},
     "output_type": "execute_result"
    }
   ],
   "source": [
    "# 60% train, 20% test, 20% validation\n",
    "train, not_train = train_test_split(df, test_size=0.4, random_state=42)\n",
    "validation, test = train_test_split(not_train, test_size=0.5, random_state=42)\n",
    "\n",
    "train.shape, validation.shape, test.shape"
   ]
  },
  {
   "cell_type": "code",
   "execution_count": 11,
   "id": "7b7683f6",
   "metadata": {},
   "outputs": [],
   "source": [
    "def evaluate_model(model, set_names=('train', 'validation'), title='', show_cm=False):\n",
    "    if title:\n",
    "        display(title)\n",
    "        \n",
    "    final_metrics = {\n",
    "        'Accuracy': [],\n",
    "        #'Precision': [],\n",
    "        #'Recall': [],\n",
    "        #'F1': [],        \n",
    "    }\n",
    "        \n",
    "    for i, set_name in enumerate(set_names):\n",
    "        assert set_name in ['train', 'validation', 'test']\n",
    "        set_data = globals()[set_name]  # <- hack feo...\n",
    "\n",
    "        y = set_data.Delay\n",
    "        y_pred = model.predict(set_data)\n",
    "        final_metrics['Accuracy'].append(metrics.accuracy_score(y, y_pred))\n",
    "        #final_metrics['Precision'].append(metrics.precision_score(y, y_pred))\n",
    "        #final_metrics['Recall'].append(metrics.recall_score(y, y_pred))\n",
    "        #final_metrics['F1'].append(metrics.f1_score(y, y_pred))\n",
    "        \n",
    "        if show_cm:\n",
    "            cm = metrics.confusion_matrix(y, y_pred)\n",
    "            cm_plot = metrics.ConfusionMatrixDisplay(confusion_matrix=cm, \n",
    "                                                     display_labels=['No Delay', 'Delay'])\n",
    "            cm_plot.plot(cmap=\"Blues\")\n",
    "        \n",
    "    display(pd.DataFrame(final_metrics, index=set_names))"
   ]
  },
  {
   "cell_type": "markdown",
   "id": "b56e42b4",
   "metadata": {},
   "source": [
    "## Primer modelo: Regresión logística"
   ]
  },
  {
   "cell_type": "code",
   "execution_count": null,
   "id": "c14ad1fb",
   "metadata": {},
   "outputs": [],
   "source": [
    "parameters = {'penalty': ['none', 'l2']}\n",
    "\n",
    "clf = GridSearchCV(LogisticRegression(random_state=42), parameters, cv=5, scoring='accuracy')\n",
    "\n",
    "gs_lr_model = Pipeline([\n",
    "    ('mapper', mapper),\n",
    "    ('classifier', clf),\n",
    "])\n",
    "\n",
    "gs_lr_model.fit(train, train.Delay)"
   ]
  },
  {
   "cell_type": "code",
   "execution_count": null,
   "id": "d290d840",
   "metadata": {},
   "outputs": [],
   "source": [
    "transformed_data = gs_lr_model.named_steps['mapper'].transform(train)\n",
    "dimensiones = transformed_data.shape[1]\n",
    "print(\"Cantidad de dimensiones:\", dimensiones)\n",
    "\n",
    "print(\"Cross-Validation Accuracy:\", clf.best_score_)\n",
    "print(\"Mejores Hiperparametros:\", clf.best_params_)"
   ]
  },
  {
   "cell_type": "code",
   "execution_count": null,
   "id": "cc31ce79",
   "metadata": {},
   "outputs": [],
   "source": [
    "evaluate_model(gs_lr_model, title='Regresión Logistica', show_cm=True)"
   ]
  },
  {
   "cell_type": "markdown",
   "id": "53a616ce",
   "metadata": {},
   "source": [
    "### Primer modelo: Regresión logística con PCA"
   ]
  },
  {
   "cell_type": "code",
   "execution_count": null,
   "id": "0a1480f3",
   "metadata": {},
   "outputs": [],
   "source": [
    "pca = PCA()\n",
    "\n",
    "gs_lr_model_pca = Pipeline([\n",
    "    ('mapper', mapper),\n",
    "    ('pca', pca), \n",
    "])\n",
    "\n",
    "gs_lr_model_pca.fit(train, train.Delay)"
   ]
  },
  {
   "cell_type": "code",
   "execution_count": null,
   "id": "7b1ed408",
   "metadata": {},
   "outputs": [],
   "source": [
    "# Definir qué fracción de la varianza se quiere mantener\n",
    "var_frac = 0.95\n",
    "\n",
    "# Calcular la suma acumulativa\n",
    "cumsum = np.cumsum(pca.explained_variance_ratio_) \n",
    "# eso nos dice cuanta información es retenida si paramos en cada dimensión\n",
    "\n",
    "# En qué momento la suma cumulativa llega a var_frac * 100 %?\n",
    "d = np.argmax(cumsum >= var_frac) + 1\n",
    "print('Con {} dimensiones, preservamos el {} de la varianza.'.format(d, var_frac))"
   ]
  },
  {
   "cell_type": "code",
   "execution_count": null,
   "id": "31fe3cbf",
   "metadata": {},
   "outputs": [],
   "source": [
    "parameters = {'penalty': ['none', 'l2']}\n",
    "\n",
    "pca = PCA(n_components=d)\n",
    "\n",
    "clf = GridSearchCV(LogisticRegression(random_state=42), parameters, cv=5, scoring='accuracy')\n",
    "\n",
    "gs_lr_model_pca = Pipeline([\n",
    "    ('mapper', mapper),\n",
    "    ('pca', pca),\n",
    "    ('classifier', clf),\n",
    "    \n",
    "])\n",
    "\n",
    "gs_lr_model_pca.fit(train, train.Delay)"
   ]
  },
  {
   "cell_type": "code",
   "execution_count": null,
   "id": "32b778a0",
   "metadata": {},
   "outputs": [],
   "source": [
    "transformed_data = gs_lr_model_pca.named_steps['mapper'].transform(train)\n",
    "dimensiones = transformed_data.shape[1]\n",
    "print(\"Cantidad de dimensiones:\", dimensiones)\n",
    "\n",
    "print(\"Cross-Validation Accuracy:\", clf.best_score_)\n",
    "print(\"Mejores Hiperparametros:\", clf.best_params_)"
   ]
  },
  {
   "cell_type": "code",
   "execution_count": null,
   "id": "8a1c73fb",
   "metadata": {},
   "outputs": [],
   "source": [
    "evaluate_model(gs_lr_model_pca, title='Regresión Logistica con PCA', show_cm=True)"
   ]
  },
  {
   "cell_type": "markdown",
   "id": "e0b4f38f",
   "metadata": {},
   "source": []
  },
  {
   "cell_type": "markdown",
   "id": "b84340e1",
   "metadata": {},
   "source": [
    "## Segundo modelo:  K-NN"
   ]
  },
  {
   "cell_type": "code",
   "execution_count": null,
   "id": "0c3c0f21",
   "metadata": {},
   "outputs": [],
   "source": [
    "from sklearn.neighbors import KNeighborsClassifier"
   ]
  },
  {
   "cell_type": "code",
   "execution_count": null,
   "id": "f0ec9c1b",
   "metadata": {},
   "outputs": [],
   "source": [
    "K = 10\n",
    "parameters = {'n_neighbors': list (range(1, 11))}\n",
    "\n",
    "clf_knn = GridSearchCV(KNeighborsClassifier(n_neighbors=K), parameters, cv=5, scoring='accuracy')\n",
    "\n",
    "knn_model = Pipeline([\n",
    "    ('mapper', mapper),\n",
    "    ('classifier', clf_knn),\n",
    "])"
   ]
  },
  {
   "cell_type": "code",
   "execution_count": null,
   "id": "0d971399",
   "metadata": {},
   "outputs": [],
   "source": [
    "knn_model.fit(train, train.Delay)"
   ]
  },
  {
   "cell_type": "code",
   "execution_count": null,
   "id": "a8be1b4f",
   "metadata": {},
   "outputs": [],
   "source": [
    "transformed_data = knn_model.named_steps['mapper'].transform(train)\n",
    "dimensiones = transformed_data.shape[1]\n",
    "print(\"Cantidad de dimensiones:\", dimensiones)\n",
    "\n",
    "print(\"Cross-Validation Accuracy:\", clf_knn.best_score_)\n",
    "print(\"Mejores Hiperparametros:\", clf_knn.best_params_)"
   ]
  },
  {
   "cell_type": "code",
   "execution_count": null,
   "id": "25060055",
   "metadata": {},
   "outputs": [],
   "source": [
    "evaluate_model(knn_model, title='K-NN', show_cm=True)"
   ]
  },
  {
   "cell_type": "markdown",
   "id": "48d71872",
   "metadata": {},
   "source": [
    "### Segundo modelo: K-NN con PCA"
   ]
  },
  {
   "cell_type": "code",
   "execution_count": null,
   "id": "2a113a51",
   "metadata": {},
   "outputs": [],
   "source": [
    "pca = PCA()\n",
    "\n",
    "knn_model_pca = Pipeline([\n",
    "    ('mapper', mapper),\n",
    "    ('pca', pca), \n",
    "])\n",
    "\n",
    "knn_model_pca.fit(train, train.Delay)"
   ]
  },
  {
   "cell_type": "code",
   "execution_count": null,
   "id": "8de74cb8",
   "metadata": {},
   "outputs": [],
   "source": [
    "# Definir qué fracción de la varianza se quiere mantener\n",
    "var_frac = 0.95\n",
    "\n",
    "# Calcular la suma acumulativa\n",
    "cumsum = np.cumsum(pca.explained_variance_ratio_) \n",
    "# eso nos dice cuanta información es retenida si paramos en cada dimensión\n",
    "\n",
    "# En qué momento la suma cumulativa llega a var_frac * 100 %?\n",
    "d = np.argmax(cumsum >= var_frac) + 1\n",
    "print('Con {} dimensiones, preservamos el {} de la varianza.'.format(d, var_frac))"
   ]
  },
  {
   "cell_type": "code",
   "execution_count": null,
   "id": "90a09052",
   "metadata": {},
   "outputs": [],
   "source": [
    "pca = PCA(n_components=d)\n",
    "K = 10\n",
    "parameters = {'n_neighbors': list (range(1, 11))}\n",
    "\n",
    "clf_knn = GridSearchCV(KNeighborsClassifier(n_neighbors=K), parameters, cv=5, scoring='accuracy')\n",
    "\n",
    "knn_model_pca = Pipeline([\n",
    "    ('mapper', mapper),\n",
    "    ('pca', pca),\n",
    "    ('classifier', clf_knn),\n",
    "])\n",
    "\n",
    "knn_model_pca.fit(train, train.Delay)"
   ]
  },
  {
   "cell_type": "code",
   "execution_count": null,
   "id": "af4051b9",
   "metadata": {},
   "outputs": [],
   "source": [
    "evaluate_model(knn_model_pca, title='K-NN con PCA', show_cm=True)"
   ]
  },
  {
   "cell_type": "markdown",
   "id": "9571c47e",
   "metadata": {},
   "source": [
    "## Quinto modelo: Gradient Boosted Trees"
   ]
  },
  {
   "cell_type": "code",
   "execution_count": 12,
   "id": "efba7937",
   "metadata": {},
   "outputs": [],
   "source": [
    "from sklearn.ensemble import GradientBoostingClassifier"
   ]
  },
  {
   "cell_type": "code",
   "execution_count": 13,
   "id": "1cf43c3c",
   "metadata": {},
   "outputs": [],
   "source": [
    "import graphviz\n",
    "from sklearn.tree import export_graphviz\n",
    "\n",
    "def graph_tree(tree):\n",
    "    graph_data = export_graphviz(\n",
    "        tree, \n",
    "        out_file=None, \n",
    "        feature_names=mapper.transformed_names_,  \n",
    "        class_names=['Delay', 'No Delay'],  \n",
    "        filled=True, \n",
    "        rounded=True,  \n",
    "        special_characters=True,\n",
    "    )\n",
    "    graph = graphviz.Source(graph_data)  \n",
    "    # graph.render('rendered_tree')\n",
    "    return graph"
   ]
  },
  {
   "cell_type": "code",
   "execution_count": 14,
   "id": "08991dc4",
   "metadata": {},
   "outputs": [],
   "source": [
    "boost_model = Pipeline([\n",
    "    ('mapper', mapper),\n",
    "    ('classifier', GradientBoostingClassifier()),\n",
    "])"
   ]
  },
  {
   "cell_type": "code",
   "execution_count": 15,
   "id": "f2d20fcd",
   "metadata": {},
   "outputs": [
    {
     "data": {
      "text/html": [
       "<style>#sk-container-id-1 {color: black;background-color: white;}#sk-container-id-1 pre{padding: 0;}#sk-container-id-1 div.sk-toggleable {background-color: white;}#sk-container-id-1 label.sk-toggleable__label {cursor: pointer;display: block;width: 100%;margin-bottom: 0;padding: 0.3em;box-sizing: border-box;text-align: center;}#sk-container-id-1 label.sk-toggleable__label-arrow:before {content: \"▸\";float: left;margin-right: 0.25em;color: #696969;}#sk-container-id-1 label.sk-toggleable__label-arrow:hover:before {color: black;}#sk-container-id-1 div.sk-estimator:hover label.sk-toggleable__label-arrow:before {color: black;}#sk-container-id-1 div.sk-toggleable__content {max-height: 0;max-width: 0;overflow: hidden;text-align: left;background-color: #f0f8ff;}#sk-container-id-1 div.sk-toggleable__content pre {margin: 0.2em;color: black;border-radius: 0.25em;background-color: #f0f8ff;}#sk-container-id-1 input.sk-toggleable__control:checked~div.sk-toggleable__content {max-height: 200px;max-width: 100%;overflow: auto;}#sk-container-id-1 input.sk-toggleable__control:checked~label.sk-toggleable__label-arrow:before {content: \"▾\";}#sk-container-id-1 div.sk-estimator input.sk-toggleable__control:checked~label.sk-toggleable__label {background-color: #d4ebff;}#sk-container-id-1 div.sk-label input.sk-toggleable__control:checked~label.sk-toggleable__label {background-color: #d4ebff;}#sk-container-id-1 input.sk-hidden--visually {border: 0;clip: rect(1px 1px 1px 1px);clip: rect(1px, 1px, 1px, 1px);height: 1px;margin: -1px;overflow: hidden;padding: 0;position: absolute;width: 1px;}#sk-container-id-1 div.sk-estimator {font-family: monospace;background-color: #f0f8ff;border: 1px dotted black;border-radius: 0.25em;box-sizing: border-box;margin-bottom: 0.5em;}#sk-container-id-1 div.sk-estimator:hover {background-color: #d4ebff;}#sk-container-id-1 div.sk-parallel-item::after {content: \"\";width: 100%;border-bottom: 1px solid gray;flex-grow: 1;}#sk-container-id-1 div.sk-label:hover label.sk-toggleable__label {background-color: #d4ebff;}#sk-container-id-1 div.sk-serial::before {content: \"\";position: absolute;border-left: 1px solid gray;box-sizing: border-box;top: 0;bottom: 0;left: 50%;z-index: 0;}#sk-container-id-1 div.sk-serial {display: flex;flex-direction: column;align-items: center;background-color: white;padding-right: 0.2em;padding-left: 0.2em;position: relative;}#sk-container-id-1 div.sk-item {position: relative;z-index: 1;}#sk-container-id-1 div.sk-parallel {display: flex;align-items: stretch;justify-content: center;background-color: white;position: relative;}#sk-container-id-1 div.sk-item::before, #sk-container-id-1 div.sk-parallel-item::before {content: \"\";position: absolute;border-left: 1px solid gray;box-sizing: border-box;top: 0;bottom: 0;left: 50%;z-index: -1;}#sk-container-id-1 div.sk-parallel-item {display: flex;flex-direction: column;z-index: 1;position: relative;background-color: white;}#sk-container-id-1 div.sk-parallel-item:first-child::after {align-self: flex-end;width: 50%;}#sk-container-id-1 div.sk-parallel-item:last-child::after {align-self: flex-start;width: 50%;}#sk-container-id-1 div.sk-parallel-item:only-child::after {width: 0;}#sk-container-id-1 div.sk-dashed-wrapped {border: 1px dashed gray;margin: 0 0.4em 0.5em 0.4em;box-sizing: border-box;padding-bottom: 0.4em;background-color: white;}#sk-container-id-1 div.sk-label label {font-family: monospace;font-weight: bold;display: inline-block;line-height: 1.2em;}#sk-container-id-1 div.sk-label-container {text-align: center;}#sk-container-id-1 div.sk-container {/* jupyter's `normalize.less` sets `[hidden] { display: none; }` but bootstrap.min.css set `[hidden] { display: none !important; }` so we also need the `!important` here to be able to override the default hidden behavior on the sphinx rendered scikit-learn.org. See: https://github.com/scikit-learn/scikit-learn/issues/21755 */display: inline-block !important;position: relative;}#sk-container-id-1 div.sk-text-repr-fallback {display: none;}</style><div id=\"sk-container-id-1\" class=\"sk-top-container\"><div class=\"sk-text-repr-fallback\"><pre>Pipeline(steps=[(&#x27;mapper&#x27;,\n",
       "                 DataFrameMapper(drop_cols=[],\n",
       "                                 features=[([&#x27;Airline&#x27;], [OneHotEncoder()]),\n",
       "                                           ([&#x27;AirportFrom&#x27;], [OneHotEncoder()]),\n",
       "                                           ([&#x27;AirportTo&#x27;], [OneHotEncoder()]),\n",
       "                                           ([&#x27;DayOfWeek&#x27;], [StandardScaler()]),\n",
       "                                           ([&#x27;Time&#x27;], [StandardScaler()]),\n",
       "                                           ([&#x27;Length&#x27;], [StandardScaler()]),\n",
       "                                           ([&#x27;MomentoDelDia&#x27;],\n",
       "                                            [OneHotEncoder()])])),\n",
       "                (&#x27;classifier&#x27;, GradientBoostingClassifier())])</pre><b>In a Jupyter environment, please rerun this cell to show the HTML representation or trust the notebook. <br />On GitHub, the HTML representation is unable to render, please try loading this page with nbviewer.org.</b></div><div class=\"sk-container\" hidden><div class=\"sk-item sk-dashed-wrapped\"><div class=\"sk-label-container\"><div class=\"sk-label sk-toggleable\"><input class=\"sk-toggleable__control sk-hidden--visually\" id=\"sk-estimator-id-1\" type=\"checkbox\" ><label for=\"sk-estimator-id-1\" class=\"sk-toggleable__label sk-toggleable__label-arrow\">Pipeline</label><div class=\"sk-toggleable__content\"><pre>Pipeline(steps=[(&#x27;mapper&#x27;,\n",
       "                 DataFrameMapper(drop_cols=[],\n",
       "                                 features=[([&#x27;Airline&#x27;], [OneHotEncoder()]),\n",
       "                                           ([&#x27;AirportFrom&#x27;], [OneHotEncoder()]),\n",
       "                                           ([&#x27;AirportTo&#x27;], [OneHotEncoder()]),\n",
       "                                           ([&#x27;DayOfWeek&#x27;], [StandardScaler()]),\n",
       "                                           ([&#x27;Time&#x27;], [StandardScaler()]),\n",
       "                                           ([&#x27;Length&#x27;], [StandardScaler()]),\n",
       "                                           ([&#x27;MomentoDelDia&#x27;],\n",
       "                                            [OneHotEncoder()])])),\n",
       "                (&#x27;classifier&#x27;, GradientBoostingClassifier())])</pre></div></div></div><div class=\"sk-serial\"><div class=\"sk-item\"><div class=\"sk-estimator sk-toggleable\"><input class=\"sk-toggleable__control sk-hidden--visually\" id=\"sk-estimator-id-2\" type=\"checkbox\" ><label for=\"sk-estimator-id-2\" class=\"sk-toggleable__label sk-toggleable__label-arrow\">DataFrameMapper</label><div class=\"sk-toggleable__content\"><pre>DataFrameMapper(drop_cols=[],\n",
       "                features=[([&#x27;Airline&#x27;], [OneHotEncoder()]),\n",
       "                          ([&#x27;AirportFrom&#x27;], [OneHotEncoder()]),\n",
       "                          ([&#x27;AirportTo&#x27;], [OneHotEncoder()]),\n",
       "                          ([&#x27;DayOfWeek&#x27;], [StandardScaler()]),\n",
       "                          ([&#x27;Time&#x27;], [StandardScaler()]),\n",
       "                          ([&#x27;Length&#x27;], [StandardScaler()]),\n",
       "                          ([&#x27;MomentoDelDia&#x27;], [OneHotEncoder()])])</pre></div></div></div><div class=\"sk-item\"><div class=\"sk-estimator sk-toggleable\"><input class=\"sk-toggleable__control sk-hidden--visually\" id=\"sk-estimator-id-3\" type=\"checkbox\" ><label for=\"sk-estimator-id-3\" class=\"sk-toggleable__label sk-toggleable__label-arrow\">GradientBoostingClassifier</label><div class=\"sk-toggleable__content\"><pre>GradientBoostingClassifier()</pre></div></div></div></div></div></div></div>"
      ],
      "text/plain": [
       "Pipeline(steps=[('mapper',\n",
       "                 DataFrameMapper(drop_cols=[],\n",
       "                                 features=[(['Airline'], [OneHotEncoder()]),\n",
       "                                           (['AirportFrom'], [OneHotEncoder()]),\n",
       "                                           (['AirportTo'], [OneHotEncoder()]),\n",
       "                                           (['DayOfWeek'], [StandardScaler()]),\n",
       "                                           (['Time'], [StandardScaler()]),\n",
       "                                           (['Length'], [StandardScaler()]),\n",
       "                                           (['MomentoDelDia'],\n",
       "                                            [OneHotEncoder()])])),\n",
       "                ('classifier', GradientBoostingClassifier())])"
      ]
     },
     "execution_count": 15,
     "metadata": {},
     "output_type": "execute_result"
    }
   ],
   "source": [
    "boost_model.fit(train, train.Delay)"
   ]
  },
  {
   "cell_type": "code",
   "execution_count": 16,
   "id": "4676fc8a",
   "metadata": {},
   "outputs": [
    {
     "data": {
      "text/plain": [
       "'Gradient Boosted Trees'"
      ]
     },
     "metadata": {},
     "output_type": "display_data"
    },
    {
     "data": {
      "text/html": [
       "<div>\n",
       "<style scoped>\n",
       "    .dataframe tbody tr th:only-of-type {\n",
       "        vertical-align: middle;\n",
       "    }\n",
       "\n",
       "    .dataframe tbody tr th {\n",
       "        vertical-align: top;\n",
       "    }\n",
       "\n",
       "    .dataframe thead th {\n",
       "        text-align: right;\n",
       "    }\n",
       "</style>\n",
       "<table border=\"1\" class=\"dataframe\">\n",
       "  <thead>\n",
       "    <tr style=\"text-align: right;\">\n",
       "      <th></th>\n",
       "      <th>Accuracy</th>\n",
       "    </tr>\n",
       "  </thead>\n",
       "  <tbody>\n",
       "    <tr>\n",
       "      <th>train</th>\n",
       "      <td>0.649841</td>\n",
       "    </tr>\n",
       "    <tr>\n",
       "      <th>validation</th>\n",
       "      <td>0.646900</td>\n",
       "    </tr>\n",
       "  </tbody>\n",
       "</table>\n",
       "</div>"
      ],
      "text/plain": [
       "            Accuracy\n",
       "train       0.649841\n",
       "validation  0.646900"
      ]
     },
     "metadata": {},
     "output_type": "display_data"
    },
    {
     "data": {
      "image/png": "[encoded data removed]",
      "text/plain": [
       "<Figure size 640x480 with 2 Axes>"
      ]
     },
     "metadata": {},
     "output_type": "display_data"
    },
    {
     "data": {
      "image/png": "[encoded data removed]",
      "text/plain": [
       "<Figure size 640x480 with 2 Axes>"
      ]
     },
     "metadata": {},
     "output_type": "display_data"
    }
   ],
   "source": [
    "evaluate_model(boost_model, title='Gradient Boosted Trees', show_cm=True)"
   ]
  },
  {
   "cell_type": "code",
   "execution_count": 24,
   "id": "a907f89a",
   "metadata": {},
   "outputs": [
    {
     "data": {
      "image/svg+xml": [
       "<?xml version=\"1.0\" encoding=\"UTF-8\" standalone=\"no\"?>\n",
       "<!DOCTYPE svg PUBLIC \"-//W3C//DTD SVG 1.1//EN\"\n",
       " \"http://www.w3.org/Graphics/SVG/1.1/DTD/svg11.dtd\">\n",
       "<!-- Generated by graphviz version 8.0.5 (20230430.1635)\n",
       " -->\n",
       "<!-- Title: Tree Pages: 1 -->\n",
       "<svg width=\"1350pt\" height=\"373pt\"\n",
       " viewBox=\"0.00 0.00 1349.50 373.00\" xmlns=\"http://www.w3.org/2000/svg\" xmlns:xlink=\"http://www.w3.org/1999/xlink\">\n",
       "<g id=\"graph0\" class=\"graph\" transform=\"scale(1 1) rotate(0) translate(4 369)\">\n",
       "<title>Tree</title>\n",
       "<polygon fill=\"white\" stroke=\"none\" points=\"-4,4 -4,-369 1345.5,-369 1345.5,4 -4,4\"/>\n",
       "<!-- 0 -->\n",
       "<g id=\"node1\" class=\"node\">\n",
       "<title>0</title>\n",
       "<path fill=\"#f5d1b6\" stroke=\"black\" d=\"M730.5,-365C730.5,-365 602,-365 602,-365 596,-365 590,-359 590,-353 590,-353 590,-309 590,-309 590,-303 596,-297 602,-297 602,-297 730.5,-297 730.5,-297 736.5,-297 742.5,-303 742.5,-309 742.5,-309 742.5,-353 742.5,-353 742.5,-359 736.5,-365 730.5,-365\"/>\n",
       "<text text-anchor=\"start\" x=\"619.38\" y=\"-347.7\" font-family=\"Helvetica,sans-Serif\" font-size=\"14.00\">Airline_15 ≤ 0.5</text>\n",
       "<text text-anchor=\"start\" x=\"598\" y=\"-332.7\" font-family=\"Helvetica,sans-Serif\" font-size=\"14.00\">friedman_mse = 0.243</text>\n",
       "<text text-anchor=\"start\" x=\"610.38\" y=\"-317.7\" font-family=\"Helvetica,sans-Serif\" font-size=\"14.00\">samples = 323627</text>\n",
       "<text text-anchor=\"start\" x=\"630.62\" y=\"-302.7\" font-family=\"Helvetica,sans-Serif\" font-size=\"14.00\">value = &#45;0.0</text>\n",
       "</g>\n",
       "<!-- 1 -->\n",
       "<g id=\"node2\" class=\"node\">\n",
       "<title>1</title>\n",
       "<path fill=\"#f6d4bb\" stroke=\"black\" d=\"M561.5,-261C561.5,-261 433,-261 433,-261 427,-261 421,-255 421,-249 421,-249 421,-205 421,-205 421,-199 427,-193 433,-193 433,-193 561.5,-193 561.5,-193 567.5,-193 573.5,-199 573.5,-205 573.5,-205 573.5,-249 573.5,-249 573.5,-255 567.5,-261 561.5,-261\"/>\n",
       "<text text-anchor=\"start\" x=\"455.25\" y=\"-243.7\" font-family=\"Helvetica,sans-Serif\" font-size=\"14.00\">Time ≤ &#45;0.692</text>\n",
       "<text text-anchor=\"start\" x=\"429\" y=\"-228.7\" font-family=\"Helvetica,sans-Serif\" font-size=\"14.00\">friedman_mse = 0.237</text>\n",
       "<text text-anchor=\"start\" x=\"441.38\" y=\"-213.7\" font-family=\"Helvetica,sans-Serif\" font-size=\"14.00\">samples = 267107</text>\n",
       "<text text-anchor=\"start\" x=\"454.12\" y=\"-198.7\" font-family=\"Helvetica,sans-Serif\" font-size=\"14.00\">value = &#45;0.048</text>\n",
       "</g>\n",
       "<!-- 0&#45;&gt;1 -->\n",
       "<g id=\"edge1\" class=\"edge\">\n",
       "<title>0&#45;&gt;1</title>\n",
       "<path fill=\"none\" stroke=\"black\" d=\"M610.91,-296.6C595.3,-287.18 578.18,-276.84 562.06,-267.12\"/>\n",
       "<polygon fill=\"black\" stroke=\"black\" points=\"564.08,-263.64 553.71,-261.47 560.46,-269.64 564.08,-263.64\"/>\n",
       "<text text-anchor=\"middle\" x=\"558.71\" y=\"-279.94\" font-family=\"Helvetica,sans-Serif\" font-size=\"14.00\">True</text>\n",
       "</g>\n",
       "<!-- 8 -->\n",
       "<g id=\"node9\" class=\"node\">\n",
       "<title>8</title>\n",
       "<path fill=\"#f3c3a1\" stroke=\"black\" d=\"M901.5,-261C901.5,-261 773,-261 773,-261 767,-261 761,-255 761,-249 761,-249 761,-205 761,-205 761,-199 767,-193 773,-193 773,-193 901.5,-193 901.5,-193 907.5,-193 913.5,-199 913.5,-205 913.5,-205 913.5,-249 913.5,-249 913.5,-255 907.5,-261 901.5,-261\"/>\n",
       "<text text-anchor=\"start\" x=\"795.25\" y=\"-243.7\" font-family=\"Helvetica,sans-Serif\" font-size=\"14.00\">Time ≤ &#45;0.757</text>\n",
       "<text text-anchor=\"start\" x=\"769\" y=\"-228.7\" font-family=\"Helvetica,sans-Serif\" font-size=\"14.00\">friedman_mse = 0.208</text>\n",
       "<text text-anchor=\"start\" x=\"785.12\" y=\"-213.7\" font-family=\"Helvetica,sans-Serif\" font-size=\"14.00\">samples = 56520</text>\n",
       "<text text-anchor=\"start\" x=\"796.38\" y=\"-198.7\" font-family=\"Helvetica,sans-Serif\" font-size=\"14.00\">value = 0.227</text>\n",
       "</g>\n",
       "<!-- 0&#45;&gt;8 -->\n",
       "<g id=\"edge8\" class=\"edge\">\n",
       "<title>0&#45;&gt;8</title>\n",
       "<path fill=\"none\" stroke=\"black\" d=\"M722.24,-296.6C738.19,-287.09 755.69,-276.65 772.13,-266.85\"/>\n",
       "<polygon fill=\"black\" stroke=\"black\" points=\"773.34,-269.6 780.13,-261.47 769.75,-263.59 773.34,-269.6\"/>\n",
       "<text text-anchor=\"middle\" x=\"775.01\" y=\"-279.91\" font-family=\"Helvetica,sans-Serif\" font-size=\"14.00\">False</text>\n",
       "</g>\n",
       "<!-- 2 -->\n",
       "<g id=\"node3\" class=\"node\">\n",
       "<title>2</title>\n",
       "<path fill=\"#f7dac4\" stroke=\"black\" d=\"M307.5,-157C307.5,-157 179,-157 179,-157 173,-157 167,-151 167,-145 167,-145 167,-101 167,-101 167,-95 173,-89 179,-89 179,-89 307.5,-89 307.5,-89 313.5,-89 319.5,-95 319.5,-101 319.5,-101 319.5,-145 319.5,-145 319.5,-151 313.5,-157 307.5,-157\"/>\n",
       "<text text-anchor=\"start\" x=\"201.25\" y=\"-139.7\" font-family=\"Helvetica,sans-Serif\" font-size=\"14.00\">Time ≤ &#45;1.225</text>\n",
       "<text text-anchor=\"start\" x=\"175\" y=\"-124.7\" font-family=\"Helvetica,sans-Serif\" font-size=\"14.00\">friedman_mse = 0.204</text>\n",
       "<text text-anchor=\"start\" x=\"191.12\" y=\"-109.7\" font-family=\"Helvetica,sans-Serif\" font-size=\"14.00\">samples = 80322</text>\n",
       "<text text-anchor=\"start\" x=\"200.12\" y=\"-94.7\" font-family=\"Helvetica,sans-Serif\" font-size=\"14.00\">value = &#45;0.143</text>\n",
       "</g>\n",
       "<!-- 1&#45;&gt;2 -->\n",
       "<g id=\"edge2\" class=\"edge\">\n",
       "<title>1&#45;&gt;2</title>\n",
       "<path fill=\"none\" stroke=\"black\" d=\"M420.7,-195.26C391.96,-183.72 359.1,-170.52 329.54,-158.65\"/>\n",
       "<polygon fill=\"black\" stroke=\"black\" points=\"331.23,-155.16 320.65,-154.68 328.62,-161.65 331.23,-155.16\"/>\n",
       "</g>\n",
       "<!-- 5 -->\n",
       "<g id=\"node6\" class=\"node\">\n",
       "<title>5</title>\n",
       "<path fill=\"#f6d1b7\" stroke=\"black\" d=\"M561.5,-157C561.5,-157 433,-157 433,-157 427,-157 421,-151 421,-145 421,-145 421,-101 421,-101 421,-95 427,-89 433,-89 433,-89 561.5,-89 561.5,-89 567.5,-89 573.5,-95 573.5,-101 573.5,-101 573.5,-145 573.5,-145 573.5,-151 567.5,-157 561.5,-157\"/>\n",
       "<text text-anchor=\"start\" x=\"452.25\" y=\"-139.7\" font-family=\"Helvetica,sans-Serif\" font-size=\"14.00\">Length ≤ 0.247</text>\n",
       "<text text-anchor=\"start\" x=\"429\" y=\"-124.7\" font-family=\"Helvetica,sans-Serif\" font-size=\"14.00\">friedman_mse = 0.246</text>\n",
       "<text text-anchor=\"start\" x=\"441.38\" y=\"-109.7\" font-family=\"Helvetica,sans-Serif\" font-size=\"14.00\">samples = 186785</text>\n",
       "<text text-anchor=\"start\" x=\"454.12\" y=\"-94.7\" font-family=\"Helvetica,sans-Serif\" font-size=\"14.00\">value = &#45;0.007</text>\n",
       "</g>\n",
       "<!-- 1&#45;&gt;5 -->\n",
       "<g id=\"edge5\" class=\"edge\">\n",
       "<title>1&#45;&gt;5</title>\n",
       "<path fill=\"none\" stroke=\"black\" d=\"M497.25,-192.6C497.25,-184.85 497.25,-176.49 497.25,-168.35\"/>\n",
       "<polygon fill=\"black\" stroke=\"black\" points=\"500.75,-168.47 497.25,-158.47 493.75,-168.47 500.75,-168.47\"/>\n",
       "</g>\n",
       "<!-- 3 -->\n",
       "<g id=\"node4\" class=\"node\">\n",
       "<title>3</title>\n",
       "<path fill=\"#ffffff\" stroke=\"black\" d=\"M140.5,-53C140.5,-53 12,-53 12,-53 6,-53 0,-47 0,-41 0,-41 0,-12 0,-12 0,-6 6,0 12,0 12,0 140.5,0 140.5,0 146.5,0 152.5,-6 152.5,-12 152.5,-12 152.5,-41 152.5,-41 152.5,-47 146.5,-53 140.5,-53\"/>\n",
       "<text text-anchor=\"start\" x=\"8\" y=\"-35.7\" font-family=\"Helvetica,sans-Serif\" font-size=\"14.00\">friedman_mse = 0.183</text>\n",
       "<text text-anchor=\"start\" x=\"24.12\" y=\"-20.7\" font-family=\"Helvetica,sans-Serif\" font-size=\"14.00\">samples = 37850</text>\n",
       "<text text-anchor=\"start\" x=\"33.12\" y=\"-5.7\" font-family=\"Helvetica,sans-Serif\" font-size=\"14.00\">value = &#45;0.756</text>\n",
       "</g>\n",
       "<!-- 2&#45;&gt;3 -->\n",
       "<g id=\"edge3\" class=\"edge\">\n",
       "<title>2&#45;&gt;3</title>\n",
       "<path fill=\"none\" stroke=\"black\" d=\"M184.37,-88.68C167.1,-78.91 148.28,-68.26 131.26,-58.63\"/>\n",
       "<polygon fill=\"black\" stroke=\"black\" points=\"133.44,-55.27 123.01,-53.39 129.99,-61.36 133.44,-55.27\"/>\n",
       "</g>\n",
       "<!-- 4 -->\n",
       "<g id=\"node5\" class=\"node\">\n",
       "<title>4</title>\n",
       "<path fill=\"#fbebe0\" stroke=\"black\" d=\"M303.75,-53C303.75,-53 182.75,-53 182.75,-53 176.75,-53 170.75,-47 170.75,-41 170.75,-41 170.75,-12 170.75,-12 170.75,-6 176.75,0 182.75,0 182.75,0 303.75,0 303.75,0 309.75,0 315.75,-6 315.75,-12 315.75,-12 315.75,-41 315.75,-41 315.75,-47 309.75,-53 303.75,-53\"/>\n",
       "<text text-anchor=\"start\" x=\"178.75\" y=\"-35.7\" font-family=\"Helvetica,sans-Serif\" font-size=\"14.00\">friedman_mse = 0.22</text>\n",
       "<text text-anchor=\"start\" x=\"191.12\" y=\"-20.7\" font-family=\"Helvetica,sans-Serif\" font-size=\"14.00\">samples = 42472</text>\n",
       "<text text-anchor=\"start\" x=\"200.12\" y=\"-5.7\" font-family=\"Helvetica,sans-Serif\" font-size=\"14.00\">value = &#45;0.434</text>\n",
       "</g>\n",
       "<!-- 2&#45;&gt;4 -->\n",
       "<g id=\"edge4\" class=\"edge\">\n",
       "<title>2&#45;&gt;4</title>\n",
       "<path fill=\"none\" stroke=\"black\" d=\"M243.25,-88.68C243.25,-80.81 243.25,-72.37 243.25,-64.35\"/>\n",
       "<polygon fill=\"black\" stroke=\"black\" points=\"246.75,-64.39 243.25,-54.39 239.75,-64.39 246.75,-64.39\"/>\n",
       "</g>\n",
       "<!-- 6 -->\n",
       "<g id=\"node7\" class=\"node\">\n",
       "<title>6</title>\n",
       "<path fill=\"#f7d8c2\" stroke=\"black\" d=\"M474.5,-53C474.5,-53 346,-53 346,-53 340,-53 334,-47 334,-41 334,-41 334,-12 334,-12 334,-6 340,0 346,0 346,0 474.5,0 474.5,0 480.5,0 486.5,-6 486.5,-12 486.5,-12 486.5,-41 486.5,-41 486.5,-47 480.5,-53 474.5,-53\"/>\n",
       "<text text-anchor=\"start\" x=\"342\" y=\"-35.7\" font-family=\"Helvetica,sans-Serif\" font-size=\"14.00\">friedman_mse = 0.242</text>\n",
       "<text text-anchor=\"start\" x=\"354.38\" y=\"-20.7\" font-family=\"Helvetica,sans-Serif\" font-size=\"14.00\">samples = 129133</text>\n",
       "<text text-anchor=\"start\" x=\"367.12\" y=\"-5.7\" font-family=\"Helvetica,sans-Serif\" font-size=\"14.00\">value = &#45;0.121</text>\n",
       "</g>\n",
       "<!-- 5&#45;&gt;6 -->\n",
       "<g id=\"edge6\" class=\"edge\">\n",
       "<title>5&#45;&gt;6</title>\n",
       "<path fill=\"none\" stroke=\"black\" d=\"M466.58,-88.68C458.41,-79.81 449.58,-70.23 441.39,-61.33\"/>\n",
       "<polygon fill=\"black\" stroke=\"black\" points=\"444.44,-59.38 435.09,-54.39 439.29,-64.12 444.44,-59.38\"/>\n",
       "</g>\n",
       "<!-- 7 -->\n",
       "<g id=\"node8\" class=\"node\">\n",
       "<title>7</title>\n",
       "<path fill=\"#f3c6a5\" stroke=\"black\" d=\"M645.5,-53C645.5,-53 517,-53 517,-53 511,-53 505,-47 505,-41 505,-41 505,-12 505,-12 505,-6 511,0 517,0 517,0 645.5,0 645.5,0 651.5,0 657.5,-6 657.5,-12 657.5,-12 657.5,-41 657.5,-41 657.5,-47 651.5,-53 645.5,-53\"/>\n",
       "<text text-anchor=\"start\" x=\"513\" y=\"-35.7\" font-family=\"Helvetica,sans-Serif\" font-size=\"14.00\">friedman_mse = 0.249</text>\n",
       "<text text-anchor=\"start\" x=\"529.12\" y=\"-20.7\" font-family=\"Helvetica,sans-Serif\" font-size=\"14.00\">samples = 57652</text>\n",
       "<text text-anchor=\"start\" x=\"540.38\" y=\"-5.7\" font-family=\"Helvetica,sans-Serif\" font-size=\"14.00\">value = 0.179</text>\n",
       "</g>\n",
       "<!-- 5&#45;&gt;7 -->\n",
       "<g id=\"edge7\" class=\"edge\">\n",
       "<title>5&#45;&gt;7</title>\n",
       "<path fill=\"none\" stroke=\"black\" d=\"M526.87,-88.68C534.67,-79.9 543.1,-70.42 550.94,-61.6\"/>\n",
       "<polygon fill=\"black\" stroke=\"black\" points=\"553.21,-64.19 557.23,-54.39 547.97,-59.54 553.21,-64.19\"/>\n",
       "</g>\n",
       "<!-- 9 -->\n",
       "<g id=\"node10\" class=\"node\">\n",
       "<title>9</title>\n",
       "<path fill=\"#f5ceb1\" stroke=\"black\" d=\"M901.5,-157C901.5,-157 773,-157 773,-157 767,-157 761,-151 761,-145 761,-145 761,-101 761,-101 761,-95 767,-89 773,-89 773,-89 901.5,-89 901.5,-89 907.5,-89 913.5,-95 913.5,-101 913.5,-101 913.5,-145 913.5,-145 913.5,-151 907.5,-157 901.5,-157\"/>\n",
       "<text text-anchor=\"start\" x=\"795.25\" y=\"-139.7\" font-family=\"Helvetica,sans-Serif\" font-size=\"14.00\">Time ≤ &#45;1.063</text>\n",
       "<text text-anchor=\"start\" x=\"769\" y=\"-124.7\" font-family=\"Helvetica,sans-Serif\" font-size=\"14.00\">friedman_mse = 0.249</text>\n",
       "<text text-anchor=\"start\" x=\"785.12\" y=\"-109.7\" font-family=\"Helvetica,sans-Serif\" font-size=\"14.00\">samples = 15385</text>\n",
       "<text text-anchor=\"start\" x=\"796.38\" y=\"-94.7\" font-family=\"Helvetica,sans-Serif\" font-size=\"14.00\">value = 0.052</text>\n",
       "</g>\n",
       "<!-- 8&#45;&gt;9 -->\n",
       "<g id=\"edge9\" class=\"edge\">\n",
       "<title>8&#45;&gt;9</title>\n",
       "<path fill=\"none\" stroke=\"black\" d=\"M837.25,-192.6C837.25,-184.85 837.25,-176.49 837.25,-168.35\"/>\n",
       "<polygon fill=\"black\" stroke=\"black\" points=\"840.75,-168.47 837.25,-158.47 833.75,-168.47 840.75,-168.47\"/>\n",
       "</g>\n",
       "<!-- 12 -->\n",
       "<g id=\"node13\" class=\"node\">\n",
       "<title>12</title>\n",
       "<path fill=\"#f2bf9a\" stroke=\"black\" d=\"M1158.5,-157C1158.5,-157 1030,-157 1030,-157 1024,-157 1018,-151 1018,-145 1018,-145 1018,-101 1018,-101 1018,-95 1024,-89 1030,-89 1030,-89 1158.5,-89 1158.5,-89 1164.5,-89 1170.5,-95 1170.5,-101 1170.5,-101 1170.5,-145 1170.5,-145 1170.5,-151 1164.5,-157 1158.5,-157\"/>\n",
       "<text text-anchor=\"start\" x=\"1058.25\" y=\"-139.7\" font-family=\"Helvetica,sans-Serif\" font-size=\"14.00\">Time ≤ 0.25</text>\n",
       "<text text-anchor=\"start\" x=\"1026\" y=\"-124.7\" font-family=\"Helvetica,sans-Serif\" font-size=\"14.00\">friedman_mse = 0.177</text>\n",
       "<text text-anchor=\"start\" x=\"1042.12\" y=\"-109.7\" font-family=\"Helvetica,sans-Serif\" font-size=\"14.00\">samples = 41135</text>\n",
       "<text text-anchor=\"start\" x=\"1053.38\" y=\"-94.7\" font-family=\"Helvetica,sans-Serif\" font-size=\"14.00\">value = 0.292</text>\n",
       "</g>\n",
       "<!-- 8&#45;&gt;12 -->\n",
       "<g id=\"edge12\" class=\"edge\">\n",
       "<title>8&#45;&gt;12</title>\n",
       "<path fill=\"none\" stroke=\"black\" d=\"M913.66,-195.67C943.17,-183.96 977.1,-170.5 1007.52,-158.42\"/>\n",
       "<polygon fill=\"black\" stroke=\"black\" points=\"1008.68,-161.33 1016.69,-154.39 1006.1,-154.82 1008.68,-161.33\"/>\n",
       "</g>\n",
       "<!-- 10 -->\n",
       "<g id=\"node11\" class=\"node\">\n",
       "<title>10</title>\n",
       "<path fill=\"#f5d0b6\" stroke=\"black\" d=\"M816.5,-53C816.5,-53 688,-53 688,-53 682,-53 676,-47 676,-41 676,-41 676,-12 676,-12 676,-6 682,0 688,0 688,0 816.5,0 816.5,0 822.5,0 828.5,-6 828.5,-12 828.5,-12 828.5,-41 828.5,-41 828.5,-47 822.5,-53 816.5,-53\"/>\n",
       "<text text-anchor=\"start\" x=\"684\" y=\"-35.7\" font-family=\"Helvetica,sans-Serif\" font-size=\"14.00\">friedman_mse = 0.247</text>\n",
       "<text text-anchor=\"start\" x=\"703.88\" y=\"-20.7\" font-family=\"Helvetica,sans-Serif\" font-size=\"14.00\">samples = 9650</text>\n",
       "<text text-anchor=\"start\" x=\"715.12\" y=\"-5.7\" font-family=\"Helvetica,sans-Serif\" font-size=\"14.00\">value = 0.01</text>\n",
       "</g>\n",
       "<!-- 9&#45;&gt;10 -->\n",
       "<g id=\"edge10\" class=\"edge\">\n",
       "<title>9&#45;&gt;10</title>\n",
       "<path fill=\"none\" stroke=\"black\" d=\"M807.28,-88.68C799.3,-79.81 790.68,-70.23 782.68,-61.33\"/>\n",
       "<polygon fill=\"black\" stroke=\"black\" points=\"785.83,-59.49 776.54,-54.39 780.63,-64.17 785.83,-59.49\"/>\n",
       "</g>\n",
       "<!-- 11 -->\n",
       "<g id=\"node12\" class=\"node\">\n",
       "<title>11</title>\n",
       "<path fill=\"#efb082\" stroke=\"black\" d=\"M987.5,-53C987.5,-53 859,-53 859,-53 853,-53 847,-47 847,-41 847,-41 847,-12 847,-12 847,-6 853,0 859,0 859,0 987.5,0 987.5,0 993.5,0 999.5,-6 999.5,-12 999.5,-12 999.5,-41 999.5,-41 999.5,-47 993.5,-53 987.5,-53\"/>\n",
       "<text text-anchor=\"start\" x=\"855\" y=\"-35.7\" font-family=\"Helvetica,sans-Serif\" font-size=\"14.00\">friedman_mse = 0.241</text>\n",
       "<text text-anchor=\"start\" x=\"874.88\" y=\"-20.7\" font-family=\"Helvetica,sans-Serif\" font-size=\"14.00\">samples = 5735</text>\n",
       "<text text-anchor=\"start\" x=\"882.38\" y=\"-5.7\" font-family=\"Helvetica,sans-Serif\" font-size=\"14.00\">value = 0.545</text>\n",
       "</g>\n",
       "<!-- 9&#45;&gt;11 -->\n",
       "<g id=\"edge11\" class=\"edge\">\n",
       "<title>9&#45;&gt;11</title>\n",
       "<path fill=\"none\" stroke=\"black\" d=\"M867.57,-88.68C875.64,-79.81 884.37,-70.23 892.46,-61.33\"/>\n",
       "<polygon fill=\"black\" stroke=\"black\" points=\"894.54,-64.15 898.69,-54.39 889.37,-59.43 894.54,-64.15\"/>\n",
       "</g>\n",
       "<!-- 13 -->\n",
       "<g id=\"node14\" class=\"node\">\n",
       "<title>13</title>\n",
       "<path fill=\"#e99558\" stroke=\"black\" d=\"M1158.5,-53C1158.5,-53 1030,-53 1030,-53 1024,-53 1018,-47 1018,-41 1018,-41 1018,-12 1018,-12 1018,-6 1024,0 1030,0 1030,0 1158.5,0 1158.5,0 1164.5,0 1170.5,-6 1170.5,-12 1170.5,-12 1170.5,-41 1170.5,-41 1170.5,-47 1164.5,-53 1158.5,-53\"/>\n",
       "<text text-anchor=\"start\" x=\"1026\" y=\"-35.7\" font-family=\"Helvetica,sans-Serif\" font-size=\"14.00\">friedman_mse = 0.203</text>\n",
       "<text text-anchor=\"start\" x=\"1042.12\" y=\"-20.7\" font-family=\"Helvetica,sans-Serif\" font-size=\"14.00\">samples = 17307</text>\n",
       "<text text-anchor=\"start\" x=\"1053.38\" y=\"-5.7\" font-family=\"Helvetica,sans-Serif\" font-size=\"14.00\">value = 0.981</text>\n",
       "</g>\n",
       "<!-- 12&#45;&gt;13 -->\n",
       "<g id=\"edge13\" class=\"edge\">\n",
       "<title>12&#45;&gt;13</title>\n",
       "<path fill=\"none\" stroke=\"black\" d=\"M1094.25,-88.68C1094.25,-80.81 1094.25,-72.37 1094.25,-64.35\"/>\n",
       "<polygon fill=\"black\" stroke=\"black\" points=\"1097.75,-64.39 1094.25,-54.39 1090.75,-64.39 1097.75,-64.39\"/>\n",
       "</g>\n",
       "<!-- 14 -->\n",
       "<g id=\"node15\" class=\"node\">\n",
       "<title>14</title>\n",
       "<path fill=\"#e58139\" stroke=\"black\" d=\"M1329.5,-53C1329.5,-53 1201,-53 1201,-53 1195,-53 1189,-47 1189,-41 1189,-41 1189,-12 1189,-12 1189,-6 1195,0 1201,0 1201,0 1329.5,0 1329.5,0 1335.5,0 1341.5,-6 1341.5,-12 1341.5,-12 1341.5,-41 1341.5,-41 1341.5,-47 1335.5,-53 1329.5,-53\"/>\n",
       "<text text-anchor=\"start\" x=\"1197\" y=\"-35.7\" font-family=\"Helvetica,sans-Serif\" font-size=\"14.00\">friedman_mse = 0.155</text>\n",
       "<text text-anchor=\"start\" x=\"1213.12\" y=\"-20.7\" font-family=\"Helvetica,sans-Serif\" font-size=\"14.00\">samples = 23828</text>\n",
       "<text text-anchor=\"start\" x=\"1224.38\" y=\"-5.7\" font-family=\"Helvetica,sans-Serif\" font-size=\"14.00\">value = 1.308</text>\n",
       "</g>\n",
       "<!-- 12&#45;&gt;14 -->\n",
       "<g id=\"edge14\" class=\"edge\">\n",
       "<title>12&#45;&gt;14</title>\n",
       "<path fill=\"none\" stroke=\"black\" d=\"M1154.54,-88.68C1172.22,-78.91 1191.49,-68.26 1208.92,-58.63\"/>\n",
       "<polygon fill=\"black\" stroke=\"black\" points=\"1210.34,-61.29 1217.39,-53.39 1206.95,-55.17 1210.34,-61.29\"/>\n",
       "</g>\n",
       "</g>\n",
       "</svg>\n"
      ],
      "text/plain": [
       "<graphviz.sources.Source at 0x13fe80d90>"
      ]
     },
     "execution_count": 24,
     "metadata": {},
     "output_type": "execute_result"
    }
   ],
   "source": [
    "graph_tree(boost_model[1].estimators_[1][0])"
   ]
  },
  {
   "cell_type": "markdown",
   "id": "f3eda1ec",
   "metadata": {},
   "source": [
    "### Quinto modelo: Gradient Boosted Trees con PCA"
   ]
  },
  {
   "cell_type": "code",
   "execution_count": 25,
   "id": "15c9c6de",
   "metadata": {},
   "outputs": [
    {
     "data": {
      "text/html": [
       "<style>#sk-container-id-2 {color: black;background-color: white;}#sk-container-id-2 pre{padding: 0;}#sk-container-id-2 div.sk-toggleable {background-color: white;}#sk-container-id-2 label.sk-toggleable__label {cursor: pointer;display: block;width: 100%;margin-bottom: 0;padding: 0.3em;box-sizing: border-box;text-align: center;}#sk-container-id-2 label.sk-toggleable__label-arrow:before {content: \"▸\";float: left;margin-right: 0.25em;color: #696969;}#sk-container-id-2 label.sk-toggleable__label-arrow:hover:before {color: black;}#sk-container-id-2 div.sk-estimator:hover label.sk-toggleable__label-arrow:before {color: black;}#sk-container-id-2 div.sk-toggleable__content {max-height: 0;max-width: 0;overflow: hidden;text-align: left;background-color: #f0f8ff;}#sk-container-id-2 div.sk-toggleable__content pre {margin: 0.2em;color: black;border-radius: 0.25em;background-color: #f0f8ff;}#sk-container-id-2 input.sk-toggleable__control:checked~div.sk-toggleable__content {max-height: 200px;max-width: 100%;overflow: auto;}#sk-container-id-2 input.sk-toggleable__control:checked~label.sk-toggleable__label-arrow:before {content: \"▾\";}#sk-container-id-2 div.sk-estimator input.sk-toggleable__control:checked~label.sk-toggleable__label {background-color: #d4ebff;}#sk-container-id-2 div.sk-label input.sk-toggleable__control:checked~label.sk-toggleable__label {background-color: #d4ebff;}#sk-container-id-2 input.sk-hidden--visually {border: 0;clip: rect(1px 1px 1px 1px);clip: rect(1px, 1px, 1px, 1px);height: 1px;margin: -1px;overflow: hidden;padding: 0;position: absolute;width: 1px;}#sk-container-id-2 div.sk-estimator {font-family: monospace;background-color: #f0f8ff;border: 1px dotted black;border-radius: 0.25em;box-sizing: border-box;margin-bottom: 0.5em;}#sk-container-id-2 div.sk-estimator:hover {background-color: #d4ebff;}#sk-container-id-2 div.sk-parallel-item::after {content: \"\";width: 100%;border-bottom: 1px solid gray;flex-grow: 1;}#sk-container-id-2 div.sk-label:hover label.sk-toggleable__label {background-color: #d4ebff;}#sk-container-id-2 div.sk-serial::before {content: \"\";position: absolute;border-left: 1px solid gray;box-sizing: border-box;top: 0;bottom: 0;left: 50%;z-index: 0;}#sk-container-id-2 div.sk-serial {display: flex;flex-direction: column;align-items: center;background-color: white;padding-right: 0.2em;padding-left: 0.2em;position: relative;}#sk-container-id-2 div.sk-item {position: relative;z-index: 1;}#sk-container-id-2 div.sk-parallel {display: flex;align-items: stretch;justify-content: center;background-color: white;position: relative;}#sk-container-id-2 div.sk-item::before, #sk-container-id-2 div.sk-parallel-item::before {content: \"\";position: absolute;border-left: 1px solid gray;box-sizing: border-box;top: 0;bottom: 0;left: 50%;z-index: -1;}#sk-container-id-2 div.sk-parallel-item {display: flex;flex-direction: column;z-index: 1;position: relative;background-color: white;}#sk-container-id-2 div.sk-parallel-item:first-child::after {align-self: flex-end;width: 50%;}#sk-container-id-2 div.sk-parallel-item:last-child::after {align-self: flex-start;width: 50%;}#sk-container-id-2 div.sk-parallel-item:only-child::after {width: 0;}#sk-container-id-2 div.sk-dashed-wrapped {border: 1px dashed gray;margin: 0 0.4em 0.5em 0.4em;box-sizing: border-box;padding-bottom: 0.4em;background-color: white;}#sk-container-id-2 div.sk-label label {font-family: monospace;font-weight: bold;display: inline-block;line-height: 1.2em;}#sk-container-id-2 div.sk-label-container {text-align: center;}#sk-container-id-2 div.sk-container {/* jupyter's `normalize.less` sets `[hidden] { display: none; }` but bootstrap.min.css set `[hidden] { display: none !important; }` so we also need the `!important` here to be able to override the default hidden behavior on the sphinx rendered scikit-learn.org. See: https://github.com/scikit-learn/scikit-learn/issues/21755 */display: inline-block !important;position: relative;}#sk-container-id-2 div.sk-text-repr-fallback {display: none;}</style><div id=\"sk-container-id-2\" class=\"sk-top-container\"><div class=\"sk-text-repr-fallback\"><pre>Pipeline(steps=[(&#x27;mapper&#x27;,\n",
       "                 DataFrameMapper(drop_cols=[],\n",
       "                                 features=[([&#x27;Airline&#x27;], [OneHotEncoder()]),\n",
       "                                           ([&#x27;AirportFrom&#x27;], [OneHotEncoder()]),\n",
       "                                           ([&#x27;AirportTo&#x27;], [OneHotEncoder()]),\n",
       "                                           ([&#x27;DayOfWeek&#x27;], [StandardScaler()]),\n",
       "                                           ([&#x27;Time&#x27;], [StandardScaler()]),\n",
       "                                           ([&#x27;Length&#x27;], [StandardScaler()]),\n",
       "                                           ([&#x27;MomentoDelDia&#x27;],\n",
       "                                            [OneHotEncoder()])])),\n",
       "                (&#x27;pca&#x27;, PCA())])</pre><b>In a Jupyter environment, please rerun this cell to show the HTML representation or trust the notebook. <br />On GitHub, the HTML representation is unable to render, please try loading this page with nbviewer.org.</b></div><div class=\"sk-container\" hidden><div class=\"sk-item sk-dashed-wrapped\"><div class=\"sk-label-container\"><div class=\"sk-label sk-toggleable\"><input class=\"sk-toggleable__control sk-hidden--visually\" id=\"sk-estimator-id-4\" type=\"checkbox\" ><label for=\"sk-estimator-id-4\" class=\"sk-toggleable__label sk-toggleable__label-arrow\">Pipeline</label><div class=\"sk-toggleable__content\"><pre>Pipeline(steps=[(&#x27;mapper&#x27;,\n",
       "                 DataFrameMapper(drop_cols=[],\n",
       "                                 features=[([&#x27;Airline&#x27;], [OneHotEncoder()]),\n",
       "                                           ([&#x27;AirportFrom&#x27;], [OneHotEncoder()]),\n",
       "                                           ([&#x27;AirportTo&#x27;], [OneHotEncoder()]),\n",
       "                                           ([&#x27;DayOfWeek&#x27;], [StandardScaler()]),\n",
       "                                           ([&#x27;Time&#x27;], [StandardScaler()]),\n",
       "                                           ([&#x27;Length&#x27;], [StandardScaler()]),\n",
       "                                           ([&#x27;MomentoDelDia&#x27;],\n",
       "                                            [OneHotEncoder()])])),\n",
       "                (&#x27;pca&#x27;, PCA())])</pre></div></div></div><div class=\"sk-serial\"><div class=\"sk-item\"><div class=\"sk-estimator sk-toggleable\"><input class=\"sk-toggleable__control sk-hidden--visually\" id=\"sk-estimator-id-5\" type=\"checkbox\" ><label for=\"sk-estimator-id-5\" class=\"sk-toggleable__label sk-toggleable__label-arrow\">DataFrameMapper</label><div class=\"sk-toggleable__content\"><pre>DataFrameMapper(drop_cols=[],\n",
       "                features=[([&#x27;Airline&#x27;], [OneHotEncoder()]),\n",
       "                          ([&#x27;AirportFrom&#x27;], [OneHotEncoder()]),\n",
       "                          ([&#x27;AirportTo&#x27;], [OneHotEncoder()]),\n",
       "                          ([&#x27;DayOfWeek&#x27;], [StandardScaler()]),\n",
       "                          ([&#x27;Time&#x27;], [StandardScaler()]),\n",
       "                          ([&#x27;Length&#x27;], [StandardScaler()]),\n",
       "                          ([&#x27;MomentoDelDia&#x27;], [OneHotEncoder()])])</pre></div></div></div><div class=\"sk-item\"><div class=\"sk-estimator sk-toggleable\"><input class=\"sk-toggleable__control sk-hidden--visually\" id=\"sk-estimator-id-6\" type=\"checkbox\" ><label for=\"sk-estimator-id-6\" class=\"sk-toggleable__label sk-toggleable__label-arrow\">PCA</label><div class=\"sk-toggleable__content\"><pre>PCA()</pre></div></div></div></div></div></div></div>"
      ],
      "text/plain": [
       "Pipeline(steps=[('mapper',\n",
       "                 DataFrameMapper(drop_cols=[],\n",
       "                                 features=[(['Airline'], [OneHotEncoder()]),\n",
       "                                           (['AirportFrom'], [OneHotEncoder()]),\n",
       "                                           (['AirportTo'], [OneHotEncoder()]),\n",
       "                                           (['DayOfWeek'], [StandardScaler()]),\n",
       "                                           (['Time'], [StandardScaler()]),\n",
       "                                           (['Length'], [StandardScaler()]),\n",
       "                                           (['MomentoDelDia'],\n",
       "                                            [OneHotEncoder()])])),\n",
       "                ('pca', PCA())])"
      ]
     },
     "execution_count": 25,
     "metadata": {},
     "output_type": "execute_result"
    }
   ],
   "source": [
    "pca = PCA()\n",
    "\n",
    "gradient_model_pca = Pipeline([\n",
    "    ('mapper', mapper),\n",
    "    ('pca', pca), \n",
    "])\n",
    "\n",
    "gradient_model_pca.fit(train, train.Delay)"
   ]
  },
  {
   "cell_type": "code",
   "execution_count": 26,
   "id": "f572f4c3",
   "metadata": {},
   "outputs": [
    {
     "name": "stdout",
     "output_type": "stream",
     "text": [
      "Con 144 dimensiones, preservamos el 0.95 de la varianza.\n"
     ]
    }
   ],
   "source": [
    "# Definir qué fracción de la varianza se quiere mantener\n",
    "var_frac = 0.95\n",
    "\n",
    "# Calcular la suma acumulativa\n",
    "cumsum = np.cumsum(pca.explained_variance_ratio_) \n",
    "# eso nos dice cuanta información es retenida si paramos en cada dimensión\n",
    "\n",
    "# En qué momento la suma cumulativa llega a var_frac * 100 %?\n",
    "d = np.argmax(cumsum >= var_frac) + 1\n",
    "print('Con {} dimensiones, preservamos el {} de la varianza.'.format(d, var_frac))"
   ]
  },
  {
   "cell_type": "code",
   "execution_count": 27,
   "id": "cb7b7cd8",
   "metadata": {},
   "outputs": [
    {
     "data": {
      "text/html": [
       "<style>#sk-container-id-3 {color: black;background-color: white;}#sk-container-id-3 pre{padding: 0;}#sk-container-id-3 div.sk-toggleable {background-color: white;}#sk-container-id-3 label.sk-toggleable__label {cursor: pointer;display: block;width: 100%;margin-bottom: 0;padding: 0.3em;box-sizing: border-box;text-align: center;}#sk-container-id-3 label.sk-toggleable__label-arrow:before {content: \"▸\";float: left;margin-right: 0.25em;color: #696969;}#sk-container-id-3 label.sk-toggleable__label-arrow:hover:before {color: black;}#sk-container-id-3 div.sk-estimator:hover label.sk-toggleable__label-arrow:before {color: black;}#sk-container-id-3 div.sk-toggleable__content {max-height: 0;max-width: 0;overflow: hidden;text-align: left;background-color: #f0f8ff;}#sk-container-id-3 div.sk-toggleable__content pre {margin: 0.2em;color: black;border-radius: 0.25em;background-color: #f0f8ff;}#sk-container-id-3 input.sk-toggleable__control:checked~div.sk-toggleable__content {max-height: 200px;max-width: 100%;overflow: auto;}#sk-container-id-3 input.sk-toggleable__control:checked~label.sk-toggleable__label-arrow:before {content: \"▾\";}#sk-container-id-3 div.sk-estimator input.sk-toggleable__control:checked~label.sk-toggleable__label {background-color: #d4ebff;}#sk-container-id-3 div.sk-label input.sk-toggleable__control:checked~label.sk-toggleable__label {background-color: #d4ebff;}#sk-container-id-3 input.sk-hidden--visually {border: 0;clip: rect(1px 1px 1px 1px);clip: rect(1px, 1px, 1px, 1px);height: 1px;margin: -1px;overflow: hidden;padding: 0;position: absolute;width: 1px;}#sk-container-id-3 div.sk-estimator {font-family: monospace;background-color: #f0f8ff;border: 1px dotted black;border-radius: 0.25em;box-sizing: border-box;margin-bottom: 0.5em;}#sk-container-id-3 div.sk-estimator:hover {background-color: #d4ebff;}#sk-container-id-3 div.sk-parallel-item::after {content: \"\";width: 100%;border-bottom: 1px solid gray;flex-grow: 1;}#sk-container-id-3 div.sk-label:hover label.sk-toggleable__label {background-color: #d4ebff;}#sk-container-id-3 div.sk-serial::before {content: \"\";position: absolute;border-left: 1px solid gray;box-sizing: border-box;top: 0;bottom: 0;left: 50%;z-index: 0;}#sk-container-id-3 div.sk-serial {display: flex;flex-direction: column;align-items: center;background-color: white;padding-right: 0.2em;padding-left: 0.2em;position: relative;}#sk-container-id-3 div.sk-item {position: relative;z-index: 1;}#sk-container-id-3 div.sk-parallel {display: flex;align-items: stretch;justify-content: center;background-color: white;position: relative;}#sk-container-id-3 div.sk-item::before, #sk-container-id-3 div.sk-parallel-item::before {content: \"\";position: absolute;border-left: 1px solid gray;box-sizing: border-box;top: 0;bottom: 0;left: 50%;z-index: -1;}#sk-container-id-3 div.sk-parallel-item {display: flex;flex-direction: column;z-index: 1;position: relative;background-color: white;}#sk-container-id-3 div.sk-parallel-item:first-child::after {align-self: flex-end;width: 50%;}#sk-container-id-3 div.sk-parallel-item:last-child::after {align-self: flex-start;width: 50%;}#sk-container-id-3 div.sk-parallel-item:only-child::after {width: 0;}#sk-container-id-3 div.sk-dashed-wrapped {border: 1px dashed gray;margin: 0 0.4em 0.5em 0.4em;box-sizing: border-box;padding-bottom: 0.4em;background-color: white;}#sk-container-id-3 div.sk-label label {font-family: monospace;font-weight: bold;display: inline-block;line-height: 1.2em;}#sk-container-id-3 div.sk-label-container {text-align: center;}#sk-container-id-3 div.sk-container {/* jupyter's `normalize.less` sets `[hidden] { display: none; }` but bootstrap.min.css set `[hidden] { display: none !important; }` so we also need the `!important` here to be able to override the default hidden behavior on the sphinx rendered scikit-learn.org. See: https://github.com/scikit-learn/scikit-learn/issues/21755 */display: inline-block !important;position: relative;}#sk-container-id-3 div.sk-text-repr-fallback {display: none;}</style><div id=\"sk-container-id-3\" class=\"sk-top-container\"><div class=\"sk-text-repr-fallback\"><pre>Pipeline(steps=[(&#x27;mapper&#x27;,\n",
       "                 DataFrameMapper(drop_cols=[],\n",
       "                                 features=[([&#x27;Airline&#x27;], [OneHotEncoder()]),\n",
       "                                           ([&#x27;AirportFrom&#x27;], [OneHotEncoder()]),\n",
       "                                           ([&#x27;AirportTo&#x27;], [OneHotEncoder()]),\n",
       "                                           ([&#x27;DayOfWeek&#x27;], [StandardScaler()]),\n",
       "                                           ([&#x27;Time&#x27;], [StandardScaler()]),\n",
       "                                           ([&#x27;Length&#x27;], [StandardScaler()]),\n",
       "                                           ([&#x27;MomentoDelDia&#x27;],\n",
       "                                            [OneHotEncoder()])])),\n",
       "                (&#x27;pca&#x27;, PCA(n_components=144)),\n",
       "                (&#x27;classifier&#x27;, GradientBoostingClassifier())])</pre><b>In a Jupyter environment, please rerun this cell to show the HTML representation or trust the notebook. <br />On GitHub, the HTML representation is unable to render, please try loading this page with nbviewer.org.</b></div><div class=\"sk-container\" hidden><div class=\"sk-item sk-dashed-wrapped\"><div class=\"sk-label-container\"><div class=\"sk-label sk-toggleable\"><input class=\"sk-toggleable__control sk-hidden--visually\" id=\"sk-estimator-id-7\" type=\"checkbox\" ><label for=\"sk-estimator-id-7\" class=\"sk-toggleable__label sk-toggleable__label-arrow\">Pipeline</label><div class=\"sk-toggleable__content\"><pre>Pipeline(steps=[(&#x27;mapper&#x27;,\n",
       "                 DataFrameMapper(drop_cols=[],\n",
       "                                 features=[([&#x27;Airline&#x27;], [OneHotEncoder()]),\n",
       "                                           ([&#x27;AirportFrom&#x27;], [OneHotEncoder()]),\n",
       "                                           ([&#x27;AirportTo&#x27;], [OneHotEncoder()]),\n",
       "                                           ([&#x27;DayOfWeek&#x27;], [StandardScaler()]),\n",
       "                                           ([&#x27;Time&#x27;], [StandardScaler()]),\n",
       "                                           ([&#x27;Length&#x27;], [StandardScaler()]),\n",
       "                                           ([&#x27;MomentoDelDia&#x27;],\n",
       "                                            [OneHotEncoder()])])),\n",
       "                (&#x27;pca&#x27;, PCA(n_components=144)),\n",
       "                (&#x27;classifier&#x27;, GradientBoostingClassifier())])</pre></div></div></div><div class=\"sk-serial\"><div class=\"sk-item\"><div class=\"sk-estimator sk-toggleable\"><input class=\"sk-toggleable__control sk-hidden--visually\" id=\"sk-estimator-id-8\" type=\"checkbox\" ><label for=\"sk-estimator-id-8\" class=\"sk-toggleable__label sk-toggleable__label-arrow\">DataFrameMapper</label><div class=\"sk-toggleable__content\"><pre>DataFrameMapper(drop_cols=[],\n",
       "                features=[([&#x27;Airline&#x27;], [OneHotEncoder()]),\n",
       "                          ([&#x27;AirportFrom&#x27;], [OneHotEncoder()]),\n",
       "                          ([&#x27;AirportTo&#x27;], [OneHotEncoder()]),\n",
       "                          ([&#x27;DayOfWeek&#x27;], [StandardScaler()]),\n",
       "                          ([&#x27;Time&#x27;], [StandardScaler()]),\n",
       "                          ([&#x27;Length&#x27;], [StandardScaler()]),\n",
       "                          ([&#x27;MomentoDelDia&#x27;], [OneHotEncoder()])])</pre></div></div></div><div class=\"sk-item\"><div class=\"sk-estimator sk-toggleable\"><input class=\"sk-toggleable__control sk-hidden--visually\" id=\"sk-estimator-id-9\" type=\"checkbox\" ><label for=\"sk-estimator-id-9\" class=\"sk-toggleable__label sk-toggleable__label-arrow\">PCA</label><div class=\"sk-toggleable__content\"><pre>PCA(n_components=144)</pre></div></div></div><div class=\"sk-item\"><div class=\"sk-estimator sk-toggleable\"><input class=\"sk-toggleable__control sk-hidden--visually\" id=\"sk-estimator-id-10\" type=\"checkbox\" ><label for=\"sk-estimator-id-10\" class=\"sk-toggleable__label sk-toggleable__label-arrow\">GradientBoostingClassifier</label><div class=\"sk-toggleable__content\"><pre>GradientBoostingClassifier()</pre></div></div></div></div></div></div></div>"
      ],
      "text/plain": [
       "Pipeline(steps=[('mapper',\n",
       "                 DataFrameMapper(drop_cols=[],\n",
       "                                 features=[(['Airline'], [OneHotEncoder()]),\n",
       "                                           (['AirportFrom'], [OneHotEncoder()]),\n",
       "                                           (['AirportTo'], [OneHotEncoder()]),\n",
       "                                           (['DayOfWeek'], [StandardScaler()]),\n",
       "                                           (['Time'], [StandardScaler()]),\n",
       "                                           (['Length'], [StandardScaler()]),\n",
       "                                           (['MomentoDelDia'],\n",
       "                                            [OneHotEncoder()])])),\n",
       "                ('pca', PCA(n_components=144)),\n",
       "                ('classifier', GradientBoostingClassifier())])"
      ]
     },
     "execution_count": 27,
     "metadata": {},
     "output_type": "execute_result"
    }
   ],
   "source": [
    "pca = PCA(n_components=d)\n",
    "\n",
    "gradient_model_pca = Pipeline([\n",
    "    ('mapper', mapper),\n",
    "    ('pca', pca),\n",
    "    ('classifier', GradientBoostingClassifier()),\n",
    "])\n",
    "\n",
    "gradient_model_pca.fit(train, train.Delay)"
   ]
  },
  {
   "cell_type": "code",
   "execution_count": 28,
   "id": "2798b774",
   "metadata": {},
   "outputs": [
    {
     "data": {
      "text/plain": [
       "'Gradient Boosted Trees con PCA'"
      ]
     },
     "metadata": {},
     "output_type": "display_data"
    },
    {
     "data": {
      "text/html": [
       "<div>\n",
       "<style scoped>\n",
       "    .dataframe tbody tr th:only-of-type {\n",
       "        vertical-align: middle;\n",
       "    }\n",
       "\n",
       "    .dataframe tbody tr th {\n",
       "        vertical-align: top;\n",
       "    }\n",
       "\n",
       "    .dataframe thead th {\n",
       "        text-align: right;\n",
       "    }\n",
       "</style>\n",
       "<table border=\"1\" class=\"dataframe\">\n",
       "  <thead>\n",
       "    <tr style=\"text-align: right;\">\n",
       "      <th></th>\n",
       "      <th>Accuracy</th>\n",
       "    </tr>\n",
       "  </thead>\n",
       "  <tbody>\n",
       "    <tr>\n",
       "      <th>train</th>\n",
       "      <td>0.656234</td>\n",
       "    </tr>\n",
       "    <tr>\n",
       "      <th>validation</th>\n",
       "      <td>0.650951</td>\n",
       "    </tr>\n",
       "  </tbody>\n",
       "</table>\n",
       "</div>"
      ],
      "text/plain": [
       "            Accuracy\n",
       "train       0.656234\n",
       "validation  0.650951"
      ]
     },
     "metadata": {},
     "output_type": "display_data"
    },
    {
     "data": {
      "image/png": "[encoded data removed]",
      "text/plain": [
       "<Figure size 640x480 with 2 Axes>"
      ]
     },
     "metadata": {},
     "output_type": "display_data"
    },
    {
     "data": {
      "image/png": "[encoded data removed]",
      "text/plain": [
       "<Figure size 640x480 with 2 Axes>"
      ]
     },
     "metadata": {},
     "output_type": "display_data"
    }
   ],
   "source": [
    "evaluate_model(gradient_model_pca, title='Gradient Boosted Trees con PCA', show_cm=True)"
   ]
  },
  {
   "cell_type": "code",
   "execution_count": null,
   "id": "b90f6161",
   "metadata": {},
   "outputs": [],
   "source": []
  }
 ],
 "metadata": {
  "kernelspec": {
   "display_name": "Python 3 (ipykernel)",
   "language": "python",
   "name": "python3"
  },
  "language_info": {
   "codemirror_mode": {
    "name": "ipython",
    "version": 3
   },
   "file_extension": ".py",
   "mimetype": "text/x-python",
   "name": "python",
   "nbconvert_exporter": "python",
   "pygments_lexer": "ipython3",
   "version": "3.11.2"
  }
 },
 "nbformat": 4,
 "nbformat_minor": 5
}
