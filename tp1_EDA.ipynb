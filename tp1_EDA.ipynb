{
 "cells": [
  {
   "cell_type": "markdown",
   "id": "8941355e",
   "metadata": {},
   "source": [
    "# TP 1: Análisis Exploratorio de Datos"
   ]
  },
  {
   "cell_type": "markdown",
   "id": "79dc1249",
   "metadata": {},
   "source": [
    "**Integrantes:**\n",
    "- Müller, Lautaro\n",
    "- Sorati, Gaston\n",
    "- Canavese, Ricardo"
   ]
  },
  {
   "cell_type": "markdown",
   "id": "15df7590",
   "metadata": {},
   "source": [
    "**Fecha de entrega:** 10 de Abril del 2023"
   ]
  },
  {
   "cell_type": "markdown",
   "id": "4d02f6a5",
   "metadata": {},
   "source": [
    "## Información sobre el dataset:\n",
    "El dataset que se va a trabajar durante este trabajo práctico está compuesto por 9 columnas y 539383 filas. Dicho dataset contiene datos historicos vuelos."
   ]
  },
  {
   "cell_type": "markdown",
   "id": "b0a70edd",
   "metadata": {},
   "source": [
    "Crearemos un subconjunto de datos eliminando la columna **Id**, ya que no nos aportara informacion y nos podria generar inconvenientes a la hora de entrenar."
   ]
  },
  {
   "cell_type": "markdown",
   "id": "f2a61116",
   "metadata": {},
   "source": [
    "## Diccionario de datos\n",
    " \n",
    "| Variable      |Definición                                                                | ¿Es utilizada? | Entrada/Salida |\n",
    "|:--------------|:-------------------------------------------------------------------------|:--------------|:----------------|\n",
    "|  id  |   Número correlativo de vuelos.                   | NO                              | -                             |\n",
    "|  Airlines  | Nombre abreviado de la aerolinea.                | SI              | ENTRADA                                  |\n",
    "|   Flight   | Número del vuelo.                            | SI              | ENTRADA                                   |\n",
    "|   AirportFrom   | De qué aeropuerto salió el vuelo.                         | Si                 | ENTRADA                         |\n",
    "|    AirportTo  | A qué aeropuerto llegó el vuelo                 | SI           | ENTRADA                                        |\n",
    "| DayOfWeek  | Día de la semana del vuelo.                 | NO           | -                                                |         \n",
    "| Time  | Hora de salida expresada en minutos.                  | SI           | ENTRADA                              |\n",
    "| Length  | Distancia de vuelo expresado en millas.                 | SI           | ENTRADA                              |\n",
    "| Delay  | Si el vuelo esta demorado.                 | SI           | SALIDA                                      |"
   ]
  },
  {
   "cell_type": "code",
   "execution_count": 1,
   "id": "41005ef9",
   "metadata": {},
   "outputs": [],
   "source": [
    "import pandas as pd\n",
    "import matplotlib.pyplot as plt\n",
    "import numpy as np\n",
    "import seaborn as sb\n",
    "import itertools\n",
    "import warnings\n",
    "import plotly.express as px\n",
    "from sklearn.preprocessing import minmax_scale"
   ]
  },
  {
   "cell_type": "code",
   "execution_count": 2,
   "id": "0ef16bef",
   "metadata": {},
   "outputs": [
    {
     "data": {
      "text/html": [
       "<div>\n",
       "<style scoped>\n",
       "    .dataframe tbody tr th:only-of-type {\n",
       "        vertical-align: middle;\n",
       "    }\n",
       "\n",
       "    .dataframe tbody tr th {\n",
       "        vertical-align: top;\n",
       "    }\n",
       "\n",
       "    .dataframe thead th {\n",
       "        text-align: right;\n",
       "    }\n",
       "</style>\n",
       "<table border=\"1\" class=\"dataframe\">\n",
       "  <thead>\n",
       "    <tr style=\"text-align: right;\">\n",
       "      <th></th>\n",
       "      <th>id</th>\n",
       "      <th>Airline</th>\n",
       "      <th>Flight</th>\n",
       "      <th>AirportFrom</th>\n",
       "      <th>AirportTo</th>\n",
       "      <th>DayOfWeek</th>\n",
       "      <th>Time</th>\n",
       "      <th>Length</th>\n",
       "      <th>Delay</th>\n",
       "    </tr>\n",
       "  </thead>\n",
       "  <tbody>\n",
       "    <tr>\n",
       "      <th>0</th>\n",
       "      <td>1</td>\n",
       "      <td>CO</td>\n",
       "      <td>269</td>\n",
       "      <td>SFO</td>\n",
       "      <td>IAH</td>\n",
       "      <td>3</td>\n",
       "      <td>15</td>\n",
       "      <td>205</td>\n",
       "      <td>1</td>\n",
       "    </tr>\n",
       "    <tr>\n",
       "      <th>1</th>\n",
       "      <td>2</td>\n",
       "      <td>US</td>\n",
       "      <td>1558</td>\n",
       "      <td>PHX</td>\n",
       "      <td>CLT</td>\n",
       "      <td>3</td>\n",
       "      <td>15</td>\n",
       "      <td>222</td>\n",
       "      <td>1</td>\n",
       "    </tr>\n",
       "    <tr>\n",
       "      <th>2</th>\n",
       "      <td>3</td>\n",
       "      <td>AA</td>\n",
       "      <td>2400</td>\n",
       "      <td>LAX</td>\n",
       "      <td>DFW</td>\n",
       "      <td>3</td>\n",
       "      <td>20</td>\n",
       "      <td>165</td>\n",
       "      <td>1</td>\n",
       "    </tr>\n",
       "    <tr>\n",
       "      <th>3</th>\n",
       "      <td>4</td>\n",
       "      <td>AA</td>\n",
       "      <td>2466</td>\n",
       "      <td>SFO</td>\n",
       "      <td>DFW</td>\n",
       "      <td>3</td>\n",
       "      <td>20</td>\n",
       "      <td>195</td>\n",
       "      <td>1</td>\n",
       "    </tr>\n",
       "    <tr>\n",
       "      <th>4</th>\n",
       "      <td>5</td>\n",
       "      <td>AS</td>\n",
       "      <td>108</td>\n",
       "      <td>ANC</td>\n",
       "      <td>SEA</td>\n",
       "      <td>3</td>\n",
       "      <td>30</td>\n",
       "      <td>202</td>\n",
       "      <td>0</td>\n",
       "    </tr>\n",
       "  </tbody>\n",
       "</table>\n",
       "</div>"
      ],
      "text/plain": [
       "   id Airline  Flight AirportFrom AirportTo  DayOfWeek  Time  Length  Delay\n",
       "0   1      CO     269         SFO       IAH          3    15     205      1\n",
       "1   2      US    1558         PHX       CLT          3    15     222      1\n",
       "2   3      AA    2400         LAX       DFW          3    20     165      1\n",
       "3   4      AA    2466         SFO       DFW          3    20     195      1\n",
       "4   5      AS     108         ANC       SEA          3    30     202      0"
      ]
     },
     "execution_count": 2,
     "metadata": {},
     "output_type": "execute_result"
    }
   ],
   "source": [
    "#Importar .csv\n",
    "dataset=pd.read_csv('Airlines.csv')\n",
    "dataset.head()"
   ]
  },
  {
   "cell_type": "markdown",
   "id": "cd75dd1e",
   "metadata": {},
   "source": [
    "## Variable de salida:\n",
    "La variable de salida **\"Delay\"** puede tener los siguientes valores:\n",
    " - **1:** En el caso de que el vuelo este demorado.\n",
    " - **0:** En el caso de que el vuelo no este demorado.\n",
    "\n",
    "La variable de salida se encuentra en forma binaria, no requiere ningun tratamiento extra."
   ]
  },
  {
   "cell_type": "markdown",
   "id": "b044f1d3",
   "metadata": {},
   "source": [
    "## Transformaciones para variables de entrada: Limpieza y pre-procesado"
   ]
  },
  {
   "cell_type": "markdown",
   "id": "8bea59fd",
   "metadata": {},
   "source": [
    "### Valores nulos:"
   ]
  },
  {
   "cell_type": "code",
   "execution_count": 3,
   "id": "d476ac3b",
   "metadata": {
    "scrolled": true
   },
   "outputs": [
    {
     "data": {
      "text/plain": [
       "id             0\n",
       "Airline        0\n",
       "Flight         0\n",
       "AirportFrom    0\n",
       "AirportTo      0\n",
       "DayOfWeek      0\n",
       "Time           0\n",
       "Length         0\n",
       "Delay          0\n",
       "dtype: int64"
      ]
     },
     "execution_count": 3,
     "metadata": {},
     "output_type": "execute_result"
    }
   ],
   "source": [
    "dataset.isnull().sum()"
   ]
  },
  {
   "cell_type": "code",
   "execution_count": 4,
   "id": "2199b841",
   "metadata": {},
   "outputs": [],
   "source": [
    "#Eliminamos los nulos\n",
    "nuevo_dataset = dataset.dropna()"
   ]
  },
  {
   "cell_type": "code",
   "execution_count": 5,
   "id": "fdb9a4b5",
   "metadata": {},
   "outputs": [],
   "source": [
    "#Nuevo dataset con datos procesados\n",
    "process_dataset = nuevo_dataset.copy()"
   ]
  },
  {
   "cell_type": "markdown",
   "id": "c610c765",
   "metadata": {},
   "source": [
    "## Variables no utilizadas:\n",
    "\n",
    "- Variables : **id** \n",
    "    - Descripcion: No tiene relevancia en la predicción de la variable de salida.\n",
    "    \n",
    "    Esta variable id nos generaría que el modelo se sobreentrene produciendo así overfitting, lo cual representa un problema a la hora de predecir.\n",
    "    "
   ]
  },
  {
   "cell_type": "code",
   "execution_count": 6,
   "id": "459ec23f",
   "metadata": {
    "scrolled": true
   },
   "outputs": [],
   "source": [
    "process_dataset = process_dataset.drop(['id'],axis=1)"
   ]
  },
  {
   "cell_type": "markdown",
   "id": "f5d850b3",
   "metadata": {},
   "source": [
    "### Pre-Procesamiento: Escalar"
   ]
  },
  {
   "cell_type": "code",
   "execution_count": 7,
   "id": "626f95c6",
   "metadata": {},
   "outputs": [],
   "source": [
    "#Escalar:Flight,DayOfWeek,Time,Length\n",
    "process_dataset[['Flight','DayOfWeek','Time','Length']] = minmax_scale(process_dataset[['Flight','DayOfWeek','Time','Length']])"
   ]
  },
  {
   "cell_type": "markdown",
   "id": "d024cfb7",
   "metadata": {},
   "source": [
    "Cambiamos los rangos de valores de las columnas, sin alterar su distribución ya que algunos modelos convergen mas rapido, y ademas muchos modelos sufren cuando hay valores que dominan las operaciones por estar en rangos mas grandes"
   ]
  },
  {
   "cell_type": "markdown",
   "id": "f219117b",
   "metadata": {},
   "source": [
    "### Pre-procesamiento: One-hot encoder de la variable \"Airline\":"
   ]
  },
  {
   "cell_type": "code",
   "execution_count": 8,
   "id": "1375033c",
   "metadata": {
    "scrolled": true
   },
   "outputs": [
    {
     "data": {
      "text/plain": [
       "array(['CO', 'US', 'AA', 'AS', 'DL', 'B6', 'HA', 'OO', '9E', 'OH', 'EV',\n",
       "       'XE', 'YV', 'UA', 'MQ', 'FL', 'F9', 'WN'], dtype=object)"
      ]
     },
     "execution_count": 8,
     "metadata": {},
     "output_type": "execute_result"
    }
   ],
   "source": [
    "process_dataset.Airline.unique()"
   ]
  },
  {
   "cell_type": "code",
   "execution_count": 9,
   "id": "34cb69ef",
   "metadata": {
    "scrolled": false
   },
   "outputs": [
    {
     "data": {
      "text/html": [
       "<div>\n",
       "<style scoped>\n",
       "    .dataframe tbody tr th:only-of-type {\n",
       "        vertical-align: middle;\n",
       "    }\n",
       "\n",
       "    .dataframe tbody tr th {\n",
       "        vertical-align: top;\n",
       "    }\n",
       "\n",
       "    .dataframe thead th {\n",
       "        text-align: right;\n",
       "    }\n",
       "</style>\n",
       "<table border=\"1\" class=\"dataframe\">\n",
       "  <thead>\n",
       "    <tr style=\"text-align: right;\">\n",
       "      <th></th>\n",
       "      <th>Flight</th>\n",
       "      <th>AirportFrom</th>\n",
       "      <th>AirportTo</th>\n",
       "      <th>DayOfWeek</th>\n",
       "      <th>Time</th>\n",
       "      <th>Length</th>\n",
       "      <th>Delay</th>\n",
       "      <th>CO</th>\n",
       "      <th>US</th>\n",
       "      <th>AA</th>\n",
       "      <th>AS</th>\n",
       "      <th>DL</th>\n",
       "      <th>B6</th>\n",
       "      <th>HA</th>\n",
       "      <th>OO</th>\n",
       "      <th>9E</th>\n",
       "      <th>OH</th>\n",
       "      <th>EV</th>\n",
       "      <th>XE</th>\n",
       "      <th>YV</th>\n",
       "      <th>UA</th>\n",
       "      <th>MQ</th>\n",
       "      <th>FL</th>\n",
       "      <th>F9</th>\n",
       "      <th>WN</th>\n",
       "    </tr>\n",
       "  </thead>\n",
       "  <tbody>\n",
       "    <tr>\n",
       "      <th>0</th>\n",
       "      <td>0.034302</td>\n",
       "      <td>SFO</td>\n",
       "      <td>IAH</td>\n",
       "      <td>0.333333</td>\n",
       "      <td>0.003499</td>\n",
       "      <td>0.312977</td>\n",
       "      <td>1</td>\n",
       "      <td>True</td>\n",
       "      <td>False</td>\n",
       "      <td>False</td>\n",
       "      <td>False</td>\n",
       "      <td>False</td>\n",
       "      <td>False</td>\n",
       "      <td>False</td>\n",
       "      <td>False</td>\n",
       "      <td>False</td>\n",
       "      <td>False</td>\n",
       "      <td>False</td>\n",
       "      <td>False</td>\n",
       "      <td>False</td>\n",
       "      <td>False</td>\n",
       "      <td>False</td>\n",
       "      <td>False</td>\n",
       "      <td>False</td>\n",
       "      <td>False</td>\n",
       "    </tr>\n",
       "    <tr>\n",
       "      <th>1</th>\n",
       "      <td>0.199283</td>\n",
       "      <td>PHX</td>\n",
       "      <td>CLT</td>\n",
       "      <td>0.333333</td>\n",
       "      <td>0.003499</td>\n",
       "      <td>0.338931</td>\n",
       "      <td>1</td>\n",
       "      <td>False</td>\n",
       "      <td>True</td>\n",
       "      <td>False</td>\n",
       "      <td>False</td>\n",
       "      <td>False</td>\n",
       "      <td>False</td>\n",
       "      <td>False</td>\n",
       "      <td>False</td>\n",
       "      <td>False</td>\n",
       "      <td>False</td>\n",
       "      <td>False</td>\n",
       "      <td>False</td>\n",
       "      <td>False</td>\n",
       "      <td>False</td>\n",
       "      <td>False</td>\n",
       "      <td>False</td>\n",
       "      <td>False</td>\n",
       "      <td>False</td>\n",
       "    </tr>\n",
       "    <tr>\n",
       "      <th>2</th>\n",
       "      <td>0.307052</td>\n",
       "      <td>LAX</td>\n",
       "      <td>DFW</td>\n",
       "      <td>0.333333</td>\n",
       "      <td>0.006998</td>\n",
       "      <td>0.251908</td>\n",
       "      <td>1</td>\n",
       "      <td>False</td>\n",
       "      <td>False</td>\n",
       "      <td>True</td>\n",
       "      <td>False</td>\n",
       "      <td>False</td>\n",
       "      <td>False</td>\n",
       "      <td>False</td>\n",
       "      <td>False</td>\n",
       "      <td>False</td>\n",
       "      <td>False</td>\n",
       "      <td>False</td>\n",
       "      <td>False</td>\n",
       "      <td>False</td>\n",
       "      <td>False</td>\n",
       "      <td>False</td>\n",
       "      <td>False</td>\n",
       "      <td>False</td>\n",
       "      <td>False</td>\n",
       "    </tr>\n",
       "    <tr>\n",
       "      <th>3</th>\n",
       "      <td>0.315500</td>\n",
       "      <td>SFO</td>\n",
       "      <td>DFW</td>\n",
       "      <td>0.333333</td>\n",
       "      <td>0.006998</td>\n",
       "      <td>0.297710</td>\n",
       "      <td>1</td>\n",
       "      <td>False</td>\n",
       "      <td>False</td>\n",
       "      <td>True</td>\n",
       "      <td>False</td>\n",
       "      <td>False</td>\n",
       "      <td>False</td>\n",
       "      <td>False</td>\n",
       "      <td>False</td>\n",
       "      <td>False</td>\n",
       "      <td>False</td>\n",
       "      <td>False</td>\n",
       "      <td>False</td>\n",
       "      <td>False</td>\n",
       "      <td>False</td>\n",
       "      <td>False</td>\n",
       "      <td>False</td>\n",
       "      <td>False</td>\n",
       "      <td>False</td>\n",
       "    </tr>\n",
       "    <tr>\n",
       "      <th>4</th>\n",
       "      <td>0.013695</td>\n",
       "      <td>ANC</td>\n",
       "      <td>SEA</td>\n",
       "      <td>0.333333</td>\n",
       "      <td>0.013996</td>\n",
       "      <td>0.308397</td>\n",
       "      <td>0</td>\n",
       "      <td>False</td>\n",
       "      <td>False</td>\n",
       "      <td>False</td>\n",
       "      <td>True</td>\n",
       "      <td>False</td>\n",
       "      <td>False</td>\n",
       "      <td>False</td>\n",
       "      <td>False</td>\n",
       "      <td>False</td>\n",
       "      <td>False</td>\n",
       "      <td>False</td>\n",
       "      <td>False</td>\n",
       "      <td>False</td>\n",
       "      <td>False</td>\n",
       "      <td>False</td>\n",
       "      <td>False</td>\n",
       "      <td>False</td>\n",
       "      <td>False</td>\n",
       "    </tr>\n",
       "  </tbody>\n",
       "</table>\n",
       "</div>"
      ],
      "text/plain": [
       "     Flight AirportFrom AirportTo  DayOfWeek      Time    Length  Delay  \\\n",
       "0  0.034302         SFO       IAH   0.333333  0.003499  0.312977      1   \n",
       "1  0.199283         PHX       CLT   0.333333  0.003499  0.338931      1   \n",
       "2  0.307052         LAX       DFW   0.333333  0.006998  0.251908      1   \n",
       "3  0.315500         SFO       DFW   0.333333  0.006998  0.297710      1   \n",
       "4  0.013695         ANC       SEA   0.333333  0.013996  0.308397      0   \n",
       "\n",
       "      CO     US     AA     AS     DL     B6     HA     OO     9E     OH  \\\n",
       "0   True  False  False  False  False  False  False  False  False  False   \n",
       "1  False   True  False  False  False  False  False  False  False  False   \n",
       "2  False  False   True  False  False  False  False  False  False  False   \n",
       "3  False  False   True  False  False  False  False  False  False  False   \n",
       "4  False  False  False   True  False  False  False  False  False  False   \n",
       "\n",
       "      EV     XE     YV     UA     MQ     FL     F9     WN  \n",
       "0  False  False  False  False  False  False  False  False  \n",
       "1  False  False  False  False  False  False  False  False  \n",
       "2  False  False  False  False  False  False  False  False  \n",
       "3  False  False  False  False  False  False  False  False  \n",
       "4  False  False  False  False  False  False  False  False  "
      ]
     },
     "execution_count": 9,
     "metadata": {},
     "output_type": "execute_result"
    }
   ],
   "source": [
    "#One Hot-Ecoder Variable: Airline\n",
    "\n",
    "for airline in process_dataset.Airline.unique():\n",
    "    process_dataset[airline]= (process_dataset.Airline==airline)\n",
    "\n",
    "process_dataset=process_dataset.drop(['Airline'],axis=1)\n",
    "pd.set_option('display.max_columns',None)\n",
    "process_dataset.head()"
   ]
  },
  {
   "cell_type": "markdown",
   "id": "3c6cce02",
   "metadata": {},
   "source": [
    "## Análisis de la variable de salida:\n",
    "### Balanceo:"
   ]
  },
  {
   "cell_type": "code",
   "execution_count": 10,
   "id": "fcf6cab8",
   "metadata": {},
   "outputs": [
    {
     "data": {
      "image/png": "[encoded data removed]",
      "text/plain": [
       "<Figure size 640x480 with 1 Axes>"
      ]
     },
     "metadata": {},
     "output_type": "display_data"
    }
   ],
   "source": [
    "#Datos de salida Balanceo de datos\n",
    "\n",
    "import matplotlib.pyplot as plt\n",
    "import numpy as np\n",
    "\n",
    "x = process_dataset.Delay.unique()\n",
    "y = process_dataset.Delay.value_counts()\n",
    "\n",
    "colors = ['red','blue']\n",
    "porcent = 100.*y/y.sum()\n",
    "\n",
    "patches, texts = plt.pie(y, colors=colors, startangle=90, radius=3)\n",
    "labels = ['{0} - {1:1.2f} %'.format(i,j) for i,j in zip(x, porcent)]\n",
    "\n",
    "\n",
    "\n",
    "plt.legend(patches, labels, title=\"Porcentaje de Vuelos Demorados\",\n",
    "           prop={'size': 20},\n",
    "          bbox_to_anchor=(1, 0, 0.5, 1))\n",
    "plt.show()"
   ]
  },
  {
   "cell_type": "markdown",
   "id": "fd922331",
   "metadata": {},
   "source": [
    "**Análisis de blanceo:** como se puede observar en la partir gráfica presentada, los datos están desbalanceados levemente. Se puede notar que un 55.46% el porcentaje de vuelos demorados, en comparación con el 44.54% los no demorados.\n",
    "\n",
    "A pesar de ello, era el resultado que esperabamos en función a los datos ya que podemos notar que refleja la verdadera relación entre los posibles valores de nuestro target. Por ello se decidió no descartar el dataset en cuestión y continuar con la predicción.\n",
    "\n",
    "Por otro lado, al tener conocimiento sobre este desbalanceo de los datos, podemos establecer a qué métricas no debemos darles tanta importancia, como es el caso de Accuracy, ya que ésta métrica presenta problemas con este tipo de datasets."
   ]
  },
  {
   "cell_type": "code",
   "execution_count": 12,
   "id": "ce0a06de",
   "metadata": {},
   "outputs": [],
   "source": [
    "#VARIABLE DELAY\n",
    "px.histogram(nuevo_dataset.sort_index(),x='Airline',color='Delay',barmode='group')"
   ]
  },
  {
   "cell_type": "markdown",
   "id": "c6fdc27e",
   "metadata": {},
   "source": [
    "## Análisis de las variables de entrada:"
   ]
  },
  {
   "cell_type": "markdown",
   "id": "c72e841f",
   "metadata": {},
   "source": [
    "*Análisis de la variable **Delay***: \n",
    "\n",
    "En función a la grafica presentada se pueden relizar las siguientes observaciones:\n",
    " - La mayor cantidad de vuelos demorados\n",
    " \n",
    " \n",
    " - Como se esperaba, la mayor cantidad de vuelos está concentrada en aquella aerolinea clasificada como WN.\n",
    " \n",
    " \n",
    " - También podemos observar que aquellas aerolineas clasificados como HA y F9 fueron los que menos vuelos realizaron. \n",
    " "
   ]
  },
  {
   "cell_type": "code",
   "execution_count": null,
   "id": "a7343037",
   "metadata": {},
   "outputs": [],
   "source": []
  }
 ],
 "metadata": {
  "kernelspec": {
   "display_name": "Python 3 (ipykernel)",
   "language": "python",
   "name": "python3"
  },
  "language_info": {
   "codemirror_mode": {
    "name": "ipython",
    "version": 3
   },
   "file_extension": ".py",
   "mimetype": "text/x-python",
   "name": "python",
   "nbconvert_exporter": "python",
   "pygments_lexer": "ipython3",
   "version": "3.11.2"
  }
 },
 "nbformat": 4,
 "nbformat_minor": 5
}
